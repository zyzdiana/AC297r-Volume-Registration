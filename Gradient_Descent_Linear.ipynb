{
 "cells": [
  {
   "cell_type": "code",
   "execution_count": 1,
   "metadata": {
    "collapsed": true
   },
   "outputs": [],
   "source": [
    "%load_ext autoreload\n",
    "%autoreload 2\n",
    "%reload_ext autoreload"
   ]
  },
  {
   "cell_type": "code",
   "execution_count": 2,
   "metadata": {
    "collapsed": true
   },
   "outputs": [],
   "source": [
    "import matplotlib.pyplot as plt\n",
    "%matplotlib inline\n",
    "import os\n",
    "import time\n",
    "import ghalton\n",
    "import numpy as np\n",
    "import numpy.fft as fft\n",
    "import cv2\n",
    "import scipy.ndimage\n",
    "import cPickle as pickle\n",
    "import sys\n",
    "sys.path.insert(1,'/Users/zyzdiana/GitHub/AC297r-Volume-Registration/code')\n",
    "import theano\n",
    "import theano.tensor as T\n",
    "rng = np.random.RandomState(42)\n",
    "theano.config.floatX = 'float32'"
   ]
  },
  {
   "cell_type": "code",
   "execution_count": 3,
   "metadata": {
    "collapsed": true
   },
   "outputs": [],
   "source": [
    "from utils import clean,to_radian,hann,res_to_rad\n",
    "from get_data import get_data\n",
    "from rotation_2d import rot_cost_func\n",
    "from visualize import plot_cost_func\n",
    "from cost_functions import cf_ssd\n",
    "from mask import sphere_mask\n",
    "from Bessel_Interp import bessel_cost_func,bessel_rotate,generate_hann_windowed_bessel_interpolation\n",
    "from Bessel_Interp import hann_windowed_bessel_halton_in_circ_cost_func, bessel_halton_in_circ_cost_func"
   ]
  },
  {
   "cell_type": "code",
   "execution_count": 4,
   "metadata": {
    "collapsed": false
   },
   "outputs": [],
   "source": [
    "# load in data\n",
    "data_dict_head = pickle.load(open('/Users/zyzdiana/Dropbox/THESIS/Pickled_Results/data_dict_head.p','rb'))\n",
    "list_6_4mm, list_8mm, list_10mm = get_data()"
   ]
  },
  {
   "cell_type": "markdown",
   "metadata": {},
   "source": [
    "### phase correlation"
   ]
  },
  {
   "cell_type": "code",
   "execution_count": 5,
   "metadata": {
    "collapsed": true
   },
   "outputs": [],
   "source": [
    "def phase_translation_2d(im0, im1):\n",
    "    '''\n",
    "    detect integer translation from phase translation\n",
    "    '''\n",
    "    f0 = fft.fft2(im0)\n",
    "    f1 = fft.fft2(im1)\n",
    "    ir = abs(fft.ifft2((f0 * f1.conjugate()) / (abs(f0) * abs(f1))))\n",
    "    t0, t1 = np.unravel_index(np.argmax(ir), im0.shape)\n",
    "    return [t0, t1]"
   ]
  },
  {
   "cell_type": "code",
   "execution_count": 6,
   "metadata": {
    "collapsed": false
   },
   "outputs": [
    {
     "name": "stdout",
     "output_type": "stream",
     "text": [
      "integer translation: [2, 0]\n"
     ]
    }
   ],
   "source": [
    "# testing the 2d translation with 6.4mm resolution\n",
    "im0 = fft.fft2(fft.ifft2(list_6_4mm[0].max(axis=1)))\n",
    "im1 = fft.fft2(fft.ifft2(list_6_4mm[4].max(axis=1)))\n",
    "print 'integer translation:',phase_translation_2d(im0, im1)"
   ]
  },
  {
   "cell_type": "code",
   "execution_count": 7,
   "metadata": {
    "collapsed": false
   },
   "outputs": [
    {
     "name": "stdout",
     "output_type": "stream",
     "text": [
      "integer translation: [1, 0]\n"
     ]
    }
   ],
   "source": [
    "# testing the 2d translation with 8mm resolution\n",
    "im0 = fft.fft2(fft.ifft2(list_8mm[0].max(axis=1)))\n",
    "im1 = fft.fft2(fft.ifft2(list_8mm[4].max(axis=1)))\n",
    "print 'integer translation:',phase_translation_2d(im0, im1)"
   ]
  },
  {
   "cell_type": "code",
   "execution_count": 8,
   "metadata": {
    "collapsed": false
   },
   "outputs": [
    {
     "name": "stdout",
     "output_type": "stream",
     "text": [
      "integer translation: [1, 0]\n"
     ]
    }
   ],
   "source": [
    "# testing the 2d translation with 10mm resolution\n",
    "im0 = fft.fft2(fft.ifft2(list_10mm[0].max(axis=1)))\n",
    "im1 = fft.fft2(fft.ifft2(list_10mm[4].max(axis=1)))\n",
    "print 'integer translation:',phase_translation_2d(im0, im1)"
   ]
  },
  {
   "cell_type": "code",
   "execution_count": 9,
   "metadata": {
    "collapsed": true
   },
   "outputs": [],
   "source": [
    "def phase_translation_3d(vol0, vol1):\n",
    "    f0 = fft.fftn(vol0)\n",
    "    f1 = fft.fftn(vol1)\n",
    "    ir = abs(fft.ifftn((f0 * f1.conjugate()) / (abs(f0) * abs(f1))))\n",
    "    t0, t1, t2 = np.unravel_index(np.argmax(ir), vol0.shape)\n",
    "    return [t0, t1, t2]"
   ]
  },
  {
   "cell_type": "code",
   "execution_count": 10,
   "metadata": {
    "collapsed": false
   },
   "outputs": [
    {
     "name": "stdout",
     "output_type": "stream",
     "text": [
      "[1, 0, 0]\n",
      "[2, 0, 0]\n",
      "[1, 0, 0]\n"
     ]
    }
   ],
   "source": [
    "# test the 3d translation with 8mm resolution\n",
    "vol0 = fft.fft2(fft.ifft2(list_8mm[0]))\n",
    "vol1 = fft.fft2(fft.ifft2(list_8mm[4]))\n",
    "print phase_translation_3d(vol0,vol1)\n",
    "\n",
    "# test the 3d translation with 6_4mm resolution\n",
    "vol0 = fft.fft2(fft.ifft2(list_6_4mm[0]))\n",
    "vol1 = fft.fft2(fft.ifft2(list_6_4mm[4]))\n",
    "print phase_translation_3d(vol0,vol1)\n",
    "\n",
    "# test the 3d translation with 10mm resolution\n",
    "vol0 = fft.fft2(fft.ifft2(list_10mm[0]))\n",
    "vol1 = fft.fft2(fft.ifft2(list_10mm[4]))\n",
    "print phase_translation_3d(vol0,vol1)"
   ]
  },
  {
   "cell_type": "markdown",
   "metadata": {},
   "source": [
    "### Gradient descent"
   ]
  },
  {
   "cell_type": "code",
   "execution_count": 11,
   "metadata": {
    "collapsed": false
   },
   "outputs": [],
   "source": [
    "from GD import gradient_descent,"
   ]
  },
  {
   "cell_type": "code",
   "execution_count": 41,
   "metadata": {
    "collapsed": false
   },
   "outputs": [
    {
     "name": "stdout",
     "output_type": "stream",
     "text": [
      "Minimized error:  0.000915302698368\n",
      "Rotation matrix R:\n",
      "[ 0.02171955  0.01188172  0.03826377]\n",
      "Translation vector t:\n",
      "[ 0.09501962 -0.94326574  0.06032803]\n"
     ]
    }
   ],
   "source": [
    "#8mm Translation 10mm & rotation 5 degrees\n",
    "testVol1 = sphere_mask(list_8mm[0],16)\n",
    "testVol2 = sphere_mask(list_8mm[4],16)\n",
    "\n",
    "R = np.zeros([3]).astype('float32')\n",
    "t = np.zeros([3]).astype('float32')\n",
    "errors,R_res,t_res = gradient_descent(testVol1,testVol2,R,t,0.2)"
   ]
  },
  {
   "cell_type": "code",
   "execution_count": 68,
   "metadata": {
    "collapsed": false
   },
   "outputs": [
    {
     "name": "stdout",
     "output_type": "stream",
     "text": [
      "Minimized error:  0.000918042299288\n",
      "Rotation matrix R:\n",
      "[ 0.00828353  0.00440224 -0.00038155]\n",
      "Translation vector t:\n",
      "[ 0.08003291 -0.95458353  0.05101336]\n"
     ]
    }
   ],
   "source": [
    "#8mm Translation 8mm & rotation 5 degrees\n",
    "testVol1 = sphere_mask(list_8mm[0],16)\n",
    "testVol2 = sphere_mask(list_8mm[4],16)\n",
    "\n",
    "R = np.zeros([3]).astype('float32')\n",
    "t = np.array([0,-1,0]).astype('float32')\n",
    "errors,R_res,t_res = gradient_descent(testVol1,testVol2,R,t,0.2)"
   ]
  },
  {
   "cell_type": "code",
   "execution_count": 50,
   "metadata": {
    "collapsed": false
   },
   "outputs": [
    {
     "name": "stdout",
     "output_type": "stream",
     "text": [
      "Minimized error:  0.000420062844774\n",
      "Rotation matrix R:\n",
      "[ 0.02979058 -0.00070872  0.01676924]\n",
      "Translation vector t:\n",
      "[-0.00521307 -0.76371765 -0.0596025 ]\n"
     ]
    }
   ],
   "source": [
    "#10mm Translation 10mm + rotation 5 degrees\n",
    "testVol1 = sphere_mask(list_10mm[0],13)\n",
    "testVol2 = sphere_mask(list_10mm[4],13)\n",
    "\n",
    "R = np.zeros([3]).astype('float32')\n",
    "t = np.zeros([3]).astype('float32')\n",
    "errors,R_res,t_res = gradient_descent(testVol1,testVol2,R,t,0.2)"
   ]
  },
  {
   "cell_type": "code",
   "execution_count": null,
   "metadata": {
    "collapsed": true
   },
   "outputs": [],
   "source": []
  }
 ],
 "metadata": {
  "kernelspec": {
   "display_name": "Python 2",
   "language": "python",
   "name": "python2"
  },
  "language_info": {
   "codemirror_mode": {
    "name": "ipython",
    "version": 2
   },
   "file_extension": ".py",
   "mimetype": "text/x-python",
   "name": "python",
   "nbconvert_exporter": "python",
   "pygments_lexer": "ipython2",
   "version": "2.7.9"
  }
 },
 "nbformat": 4,
 "nbformat_minor": 0
}
