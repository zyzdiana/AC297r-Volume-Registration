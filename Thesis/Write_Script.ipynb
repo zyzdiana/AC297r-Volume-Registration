{
 "cells": [
  {
   "cell_type": "code",
   "execution_count": 1,
   "metadata": {
    "collapsed": true
   },
   "outputs": [],
   "source": [
    "import os\n",
    "import sys\n",
    "import numpy as np"
   ]
  },
  {
   "cell_type": "code",
   "execution_count": 2,
   "metadata": {
    "collapsed": true
   },
   "outputs": [],
   "source": [
    "sys.path.insert(1,'/Users/zyzdiana/GitHub/AC297r-Volume-Registration/code')\n",
    "from utils import to_radian,res_to_rad,ax_to_w,rep_to_angle"
   ]
  },
  {
   "cell_type": "code",
   "execution_count": 3,
   "metadata": {
    "collapsed": false
   },
   "outputs": [
    {
     "name": "stdout",
     "output_type": "stream",
     "text": [
      "{'xz': 'xy', 'y': 'z', 'yz': 'xy', 'xy': 'xy', 'x': 'z', 'z': 'z'}\n",
      "{'xy': 3, 'xz': 0, 'yz': 2, 'y': 1, 'x': 4, 'z': 5}\n"
     ]
    }
   ],
   "source": [
    "# Get All Axes of Rotations\n",
    "path = '/Users/zyzdiana/Dropbox/THESIS/July_26_2016_navs/'\n",
    "resolutions = ['6_4mm', '8mm', '10mm']\n",
    "ranges = ['0_5_to_2_5','3_0_to_5_0','2_5_to_12_5','15_to_25']\n",
    "files = os.listdir(path)\n",
    "axes_dict = {}\n",
    "for f in files[1:]:\n",
    "    rot_ax = f.split('_')[2]\n",
    "    trans_ax = f.split('_')[10]\n",
    "    if not axes_dict.has_key(rot_ax):\n",
    "        axes_dict[rot_ax] = trans_ax\n",
    "print axes_dict\n",
    "keys = axes_dict.keys()\n",
    "\n",
    "rot_axes = ['xz', 'y', 'yz', 'xy', 'x', 'z']\n",
    "ax_to_idx = {}\n",
    "for rot_ax in rot_axes:\n",
    "    ax_to_idx[rot_ax] = rot_axes.index(rot_ax)\n",
    "print ax_to_idx"
   ]
  },
  {
   "cell_type": "code",
   "execution_count": 7,
   "metadata": {
    "collapsed": false
   },
   "outputs": [],
   "source": [
    "dates = ['Oct_13_navs', 'June_8_2016_navs', 'July_15_2016_Navs', 'July_26_2016_Navs']\n",
    "for date in dates:\n",
    "    path = '/Users/zyzdiana/GitHub/MotionCorrection_Dylan/run_fit_nav_reps_%s.sh' % date\n",
    "    #path = '/Users/zyzdiana/Desktop/C_output/run_fit_nav_reps_%s.sh' % date\n",
    "    script = open(path, \"w\")\n",
    "    script.write(\"#!/bin/bash\\n\")\n",
    "    interps = ['linear','cubic','cubicBSpline']\n",
    "    for interp in interps:\n",
    "        for ix, rot_ax in enumerate(keys):\n",
    "            for rang in ranges[:2]:\n",
    "                ref = rep_to_angle(0,rang)\n",
    "                for res in resolutions:\n",
    "                    float_res = float('.'.join(res[:-2].split('_')))\n",
    "                    width = res_to_rad(res)*2\n",
    "                    if res == '6_4mm':\n",
    "                        args = '%s_%s_rot_%s_deg_%s_trans' % (res, rot_ax, rang, axes_dict[rot_ax])\n",
    "                    else:\n",
    "                        args = '%s_iso_%s_rot_%s_deg_%s_trans' % (res, rot_ax, rang, axes_dict[rot_ax])\n",
    "                    script.write(\"./fit_nav_reps --%s --res %s --width %s -o /Users/zyzdiana/Desktop/C_output/%s/%s_%s.txt -i /Users/zyzdiana/DropBox/THESIS/%s/%s\\n\" % (interp, float_res, width, date, args, interp, date, args))\n",
    "    script.close()"
   ]
  },
  {
   "cell_type": "code",
   "execution_count": 8,
   "metadata": {
    "collapsed": true
   },
   "outputs": [],
   "source": [
    "dates = ['June_8_2016_navs', 'July_15_2016_Navs', 'July_26_2016_Navs']\n",
    "for date in dates:\n",
    "    path = '/Users/zyzdiana/GitHub/MotionCorrection_Dylan/run_fit_nav_reps_%s_large_rot.sh' % date\n",
    "    script = open(path, \"w\")\n",
    "    script.write(\"#!/bin/bash\\n\")\n",
    "\n",
    "    interps = ['linear','cubic','cubicBSpline']\n",
    "    for interp in interps:\n",
    "        for ix, rot_ax in enumerate(['x']):\n",
    "            for rang in ranges[2:]:\n",
    "                ref = rep_to_angle(0,rang)\n",
    "                for res in resolutions:\n",
    "                    float_res = float('.'.join(res[:-2].split('_')))\n",
    "                    width = res_to_rad(res)*2\n",
    "                    if res == '6_4mm':\n",
    "                        args = '%s_%s_rot_%s_deg_%s_trans' % (res, rot_ax, rang, axes_dict[rot_ax])\n",
    "                    else:\n",
    "                        args = '%s_iso_%s_rot_%s_deg_%s_trans' % (res, rot_ax, rang, axes_dict[rot_ax])\n",
    "                    script.write(\"./fit_nav_reps --%s --res %s --width %s -o /Users/zyzdiana/Desktop/C_output/%s/%s_%s.txt -i /Users/zyzdiana/DropBox/THESIS/%s/%s\\n\" % (interp, float_res, width, date, args, interp, date, args))\n",
    "    script.close()"
   ]
  },
  {
   "cell_type": "markdown",
   "metadata": {
    "collapsed": true
   },
   "source": [
    "## Oribi\n",
    "### Small Rotation"
   ]
  },
  {
   "cell_type": "code",
   "execution_count": 5,
   "metadata": {
    "collapsed": false
   },
   "outputs": [],
   "source": [
    "dates = ['Oct_13_navs', 'June_8_2016_navs', 'July_15_2016_Navs', 'July_26_2016_Navs']\n",
    "for date in dates:\n",
    "    path = '/Users/zyzdiana/Desktop/run_fit_nav_reps_%s.sh' % date\n",
    "    script = open(path, \"w\")\n",
    "    script.write(\"#!/bin/bash\\n\")\n",
    "\n",
    "    interps = ['linear','cubic','cubicBSpline']\n",
    "    for interp in interps:\n",
    "        for ix, rot_ax in enumerate(keys):\n",
    "            for rang in ranges[:2]:\n",
    "                ref = rep_to_angle(0,rang)\n",
    "                for res in resolutions:\n",
    "                    float_res = float('.'.join(res[:-2].split('_')))\n",
    "                    width = res_to_rad(res)*2\n",
    "                    if res == '6_4mm':\n",
    "                        args = '%s_%s_rot_%s_deg_%s_trans' % (res, rot_ax, rang, axes_dict[rot_ax])\n",
    "                    else:\n",
    "                        args = '%s_iso_%s_rot_%s_deg_%s_trans' % (res, rot_ax, rang, axes_dict[rot_ax])\n",
    "                    script.write(\"./fit_nav_reps --%s --res %s --width %s -o /autofs/space/oribi_001/users/tisdall/from_cluster/Diana/C_output/%s/%s_%s.txt -i /autofs/space/oribi_001/users/tisdall/from_cluster/Diana/%s/%s\\n\" % (interp, float_res, width, date, args, interp, date, args))\n",
    "    script.close()"
   ]
  },
  {
   "cell_type": "markdown",
   "metadata": {
    "collapsed": true
   },
   "source": [
    "### Large Rotation"
   ]
  },
  {
   "cell_type": "code",
   "execution_count": 6,
   "metadata": {
    "collapsed": false
   },
   "outputs": [],
   "source": [
    "dates = ['June_8_2016_navs', 'July_15_2016_Navs', 'July_26_2016_Navs']\n",
    "for date in dates:\n",
    "    path = '/Users/zyzdiana/Desktop/run_fit_nav_reps_%s_large_rot.sh' % date\n",
    "    script = open(path, \"w\")\n",
    "    script.write(\"#!/bin/bash\\n\")\n",
    "\n",
    "    interps = ['linear','cubic','cubicBSpline']\n",
    "    for interp in interps:\n",
    "        for ix, rot_ax in enumerate(['x']):\n",
    "            for rang in ranges[2:]:\n",
    "                ref = rep_to_angle(0,rang)\n",
    "                for res in resolutions:\n",
    "                    float_res = float('.'.join(res[:-2].split('_')))\n",
    "                    width = res_to_rad(res)*2\n",
    "                    if res == '6_4mm':\n",
    "                        args = '%s_%s_rot_%s_deg_%s_trans' % (res, rot_ax, rang, axes_dict[rot_ax])\n",
    "                    else:\n",
    "                        args = '%s_iso_%s_rot_%s_deg_%s_trans' % (res, rot_ax, rang, axes_dict[rot_ax])\n",
    "                    script.write(\"./fit_nav_reps --%s --res %s --width %s -o /autofs/space/oribi_001/users/tisdall/from_cluster/Diana/C_output/%s/%s_%s.txt -i /autofs/space/oribi_001/users/tisdall/from_cluster/Diana/%s/%s\\n\" % (interp, float_res, width, date, args, interp, date, args))\n",
    "    script.close()"
   ]
  },
  {
   "cell_type": "code",
   "execution_count": null,
   "metadata": {
    "collapsed": true
   },
   "outputs": [],
   "source": []
  }
 ],
 "metadata": {
  "kernelspec": {
   "display_name": "Python 2",
   "language": "python",
   "name": "python2"
  },
  "language_info": {
   "codemirror_mode": {
    "name": "ipython",
    "version": 2
   },
   "file_extension": ".py",
   "mimetype": "text/x-python",
   "name": "python",
   "nbconvert_exporter": "python",
   "pygments_lexer": "ipython2",
   "version": "2.7.12"
  }
 },
 "nbformat": 4,
 "nbformat_minor": 0
}
