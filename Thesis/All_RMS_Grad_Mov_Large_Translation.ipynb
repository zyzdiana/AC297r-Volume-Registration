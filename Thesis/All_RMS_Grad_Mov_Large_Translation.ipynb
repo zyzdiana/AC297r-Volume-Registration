{
 "cells": [
  {
   "cell_type": "code",
   "execution_count": 1,
   "metadata": {
    "collapsed": false
   },
   "outputs": [],
   "source": [
    "%load_ext autoreload\n",
    "%autoreload 2\n",
    "%reload_ext autoreload"
   ]
  },
  {
   "cell_type": "code",
   "execution_count": 2,
   "metadata": {
    "collapsed": false
   },
   "outputs": [],
   "source": [
    "%matplotlib inline\n",
    "import matplotlib.pyplot as plt\n",
    "import cPickle as pickle\n",
    "import multiprocessing\n",
    "import scipy.special\n",
    "import numpy as np\n",
    "import numpy.fft as fft\n",
    "import time\n",
    "import os\n",
    "import sys\n",
    "sys.path.insert(1,'/Users/zyzdiana/GitHub/AC297r-Volume-Registration/code')"
   ]
  },
  {
   "cell_type": "code",
   "execution_count": 74,
   "metadata": {
    "collapsed": false
   },
   "outputs": [],
   "source": [
    "from conversion import rotation_matrix_fromq,rotation_matrix_from_params,rotation_matrix_to_q,angles_from_q\n",
    "from utils import to_radian,res_to_rad,ax_to_w,rep_to_angle,clean\n",
    "from visualize import plot_cost_func,plot_volume,plot_slices\n",
    "from cost_functions import cf_ssd\n",
    "from mask import sphere_mask"
   ]
  },
  {
   "cell_type": "code",
   "execution_count": 4,
   "metadata": {
    "collapsed": true
   },
   "outputs": [],
   "source": [
    "from rotation_3d import trilinear_interp,volrotate_trilinear,rotate_coords_3d,rotation_matrix_zyx\n",
    "from rotation_3d import tricubic_derivatives,tricubic_interp,volrotate_tricubic\n",
    "from rotation_3d import BSpline_coefficients, Bspline_interp_1d, Bspline_interp, BSpline_derivatives, volrotate_bspline\n",
    "from Gauss_Newton import Gauss_Newton, Gauss_Newton1, print_results,sphere_mask,fourier_filter,get_gradient_P"
   ]
  },
  {
   "cell_type": "code",
   "execution_count": 75,
   "metadata": {
    "collapsed": false
   },
   "outputs": [
    {
     "name": "stdout",
     "output_type": "stream",
     "text": [
      "{'xz': 'xy', 'y': 'z', 'yz': 'xy', 'xy': 'xy', 'x': 'z', 'z': 'z'}\n",
      "['xz', 'y', 'yz', 'xy', 'x', 'z']\n"
     ]
    }
   ],
   "source": [
    "# Get All Axes of Rotations\n",
    "path = '/Users/zyzdiana/Dropbox/THESIS/July_26_2016_navs/'\n",
    "ranges = ['0_5_to_2_5','3_0_to_5_0']\n",
    "files = clean(os.listdir(path))\n",
    "axes_dict = {}\n",
    "for f in files[1:]:\n",
    "    rot_ax = f.split('_')[2]\n",
    "    trans_ax = f.split('_')[10]\n",
    "    if not axes_dict.has_key(rot_ax):\n",
    "        axes_dict[rot_ax] = trans_ax\n",
    "print axes_dict\n",
    "print axes_dict.keys()"
   ]
  },
  {
   "cell_type": "code",
   "execution_count": 76,
   "metadata": {
    "collapsed": true
   },
   "outputs": [],
   "source": [
    "def normalize(volume, scale):\n",
    "    assert((volume >= 0).all())\n",
    "    return volume * scale"
   ]
  },
  {
   "cell_type": "code",
   "execution_count": 77,
   "metadata": {
    "collapsed": true
   },
   "outputs": [],
   "source": [
    "def Max_displacement(dRM, R_axis, dt):\n",
    "    rad = 100\n",
    "    trans_R = rad*np.sqrt(3-np.trace(dRM))\n",
    "    E_max = np.sqrt(trans_R**2 + 2*trans_R*np.linalg.norm(dt-(dt.T.dot(R_axis))*R_axis) + (dt.T).dot(dt))\n",
    "    return trans_R, E_max"
   ]
  },
  {
   "cell_type": "code",
   "execution_count": 78,
   "metadata": {
    "collapsed": true
   },
   "outputs": [],
   "source": [
    "def RMS_Rotation(dRM):\n",
    "    return np.arccos((np.trace(dRM)-1)/2.)*180/np.pi\n",
    "\n",
    "def RMS_Translation(dt):\n",
    "    t = dt\n",
    "    return np.sqrt((t.T).dot(t))\n",
    "def RMS_Translation_R(dRM):\n",
    "    rad = 100\n",
    "    A = dRM - np.eye(3)\n",
    "    return np.sqrt(0.2*rad**2*np.trace((A.T).dot(A)))\n",
    "\n",
    "def RMS(dRM, dt, res_f):\n",
    "    rad = 100\n",
    "    A = dRM - np.eye(3)\n",
    "    return np.sqrt(0.2*rad**2*np.trace((A.T).dot(A))+ (dt.T).dot(dt))\n",
    "    \n",
    "from conversion import rotation_matrix_fromq, rotation_matrix_from_params\n",
    "def get_true_params(rot_angle,rot_ax):\n",
    "    wy,wx,wz = ax_to_w(rot_ax)\n",
    "    wy_t,wx_t,wz_t = ax_to_w(axes_dict[rot_ax])\n",
    "    true_RM = rotation_matrix_fromq(rot_angle[0],wx,wy,wz)\n",
    "    trans_y, trans_x, trans_z = wy_t*rot_angle[1],wx_t*rot_angle[1], wz_t*rot_angle[1]\n",
    "    return [trans_x, trans_y, trans_z], true_RM\n",
    "\n",
    "def get_params(errors, Ps, res):\n",
    "    params = Ps[-1]\n",
    "    RM = rotation_matrix_from_params(-params[3:])\n",
    "    return  params[:3]*res, RM"
   ]
  },
  {
   "cell_type": "code",
   "execution_count": 79,
   "metadata": {
    "collapsed": false
   },
   "outputs": [],
   "source": [
    "keys = ['x']\n",
    "def compute_RMS(cost_dict_6_4, cost_dict_8, cost_dict_10, grad_idx = 2, larget_trans = False):\n",
    "    true_params = []\n",
    "    Max_dis_6_4 = []\n",
    "    Max_dis_R_6_4 = []\n",
    "    RMS_ls_6_4 = []\n",
    "    RMS_rotation_ls_6_4 = []\n",
    "    RMS_translation_ls_6_4 = []\n",
    "    RMS_trans_R_6_4 = []\n",
    "    counter_6_4 = []\n",
    "    \n",
    "    Max_dis_8 = []\n",
    "    Max_dis_R_8 = []\n",
    "    RMS_ls_8 = []\n",
    "    RMS_rotation_ls_8 = []\n",
    "    RMS_translation_ls_8 = []\n",
    "    RMS_trans_R_8 = []\n",
    "    counter_8 = []\n",
    "    \n",
    "    Max_dis_10 = []\n",
    "    Max_dis_R_10 = []\n",
    "    RMS_ls_10 = []\n",
    "    RMS_rotation_ls_10 = []\n",
    "    RMS_translation_ls_10 = []\n",
    "    RMS_trans_R_10 = []\n",
    "    counter_10 = []\n",
    "    for ix, rot_ax in enumerate(keys):\n",
    "        for rang in ranges:\n",
    "            ref = rep_to_angle(0,rang)\n",
    "            for rep in xrange(1,36):\n",
    "                rot_angle = rep_to_angle(rep, rang)\n",
    "                if(larget_trans):\n",
    "                    true_rot_angle = (rot_angle[0], rot_angle[1]*5)\n",
    "                    true_params.append(true_rot_angle)\n",
    "                    true_t, true_RM = get_true_params(true_rot_angle,rot_ax)\n",
    "                else:\n",
    "                    true_params.append(rot_angle)\n",
    "                    true_t, true_RM = get_true_params(rot_angle,rot_ax)\n",
    "\n",
    "                res = '6_4'\n",
    "                res_f =  6.4\n",
    "                rad = res_to_rad(res)\n",
    "                errors, Ps, counter = cost_dict_6_4[grad_idx][rot_angle]\n",
    "                theta = np.linalg.norm(Ps[-1][3:])*180.0/np.pi\n",
    "                #errors, Ps = cost_dict_6_4[ix][grad_idx][rot_angle]\n",
    "                R_axis = Ps[-1][3:]/np.linalg.norm(Ps[-1][3:])\n",
    "                t , RM = get_params(errors, Ps, res_f)\n",
    "                dt = true_t + t\n",
    "                dR = RM.dot(true_RM.T)\n",
    "                max_trans_R, E_Max = Max_displacement(dR, R_axis, dt)\n",
    "                Max_dis_6_4.append(E_Max)\n",
    "                Max_dis_R_6_4.append(max_trans_R)\n",
    "                RMS_ls_6_4.append(RMS(dR, dt, res_f))\n",
    "                if(RMS(dR, dt, res_f) > E_Max):\n",
    "                    print rot_ax, rang, rep, rot_angle\n",
    "                    print RMS(dR, dt, res_f), E_Max\n",
    "                RMS_rotation_ls_6_4.append(theta)\n",
    "                RMS_translation_ls_6_4.append(RMS_Translation(dt))\n",
    "                RMS_trans_R_6_4.append(RMS_Translation_R(dR))\n",
    "                counter_6_4.append(counter)\n",
    "\n",
    "                res = '8'\n",
    "                res_f =  8.0\n",
    "                rad = res_to_rad(res)\n",
    "                errors, Ps, counter = cost_dict_8[grad_idx][rot_angle]\n",
    "                theta = np.linalg.norm(Ps[-1][3:])*180.0/np.pi\n",
    "                #errors, Ps = cost_dict_8[ix][grad_idx][rot_angle]\n",
    "                R_axis = Ps[-1][3:]/np.linalg.norm(Ps[-1][3:])\n",
    "                t , RM = get_params(errors, Ps, res_f)\n",
    "                dt = true_t + t\n",
    "                dR = RM.dot(true_RM.T)\n",
    "                max_trans_R, E_Max = Max_displacement(dR, R_axis, dt)\n",
    "                Max_dis_8.append(E_Max)\n",
    "                Max_dis_R_8.append(max_trans_R)\n",
    "                RMS_ls_8.append(RMS(dR, dt, res_f))\n",
    "                if(RMS(dR, dt, res_f) > E_Max):\n",
    "                    print rot_ax, rang, rep, rot_angle\n",
    "                    print RMS(dR, dt, res_f), E_Max\n",
    "                RMS_rotation_ls_8.append(theta)\n",
    "                RMS_translation_ls_8.append(RMS_Translation(dt))\n",
    "                RMS_trans_R_8.append(RMS_Translation_R(dR))\n",
    "                counter_8.append(counter)\n",
    "\n",
    "                res = '10'\n",
    "                res_f =  10.0\n",
    "                rad = res_to_rad(res)           \n",
    "                errors, Ps, counter = cost_dict_10[grad_idx][rot_angle]\n",
    "                theta = np.linalg.norm(Ps[-1][3:])*180.0/np.pi\n",
    "                #errors, Ps = cost_dict_10[ix][grad_idx][rot_angle]\n",
    "                R_axis = Ps[-1][3:]/np.linalg.norm(Ps[-1][3:])\n",
    "                t , RM = get_params(errors, Ps, res_f)\n",
    "                dt = true_t + t\n",
    "                dR = RM.dot(true_RM.T)\n",
    "                max_trans_R, E_Max = Max_displacement(dR, R_axis, dt)\n",
    "                Max_dis_10.append(E_Max)\n",
    "                Max_dis_R_10.append(max_trans_R)\n",
    "                RMS_ls_10.append(RMS(dR, dt, res_f))\n",
    "                if(RMS(dR, dt, res_f) > E_Max):\n",
    "                    print rot_ax, rang, rep, rot_angle\n",
    "                    print RMS(dR, dt, res_f), E_Max\n",
    "                RMS_rotation_ls_10.append(theta)\n",
    "                RMS_translation_ls_10.append(RMS_Translation(dt))\n",
    "                RMS_trans_R_10.append(RMS_Translation_R(dR))\n",
    "                counter_10.append(counter)\n",
    "                \n",
    "    return [true_params,\n",
    "            RMS_ls_6_4,RMS_ls_8,RMS_ls_10,\n",
    "            RMS_rotation_ls_6_4,RMS_rotation_ls_8,RMS_rotation_ls_10, \n",
    "            RMS_translation_ls_6_4,RMS_translation_ls_8,RMS_translation_ls_10,\n",
    "            Max_dis_6_4,Max_dis_8,Max_dis_10,\n",
    "            Max_dis_R_6_4,Max_dis_R_8,Max_dis_R_10,\n",
    "            RMS_trans_R_6_4, RMS_trans_R_8, RMS_trans_R_10,\n",
    "            counter_6_4, counter_8, counter_10]"
   ]
  },
  {
   "cell_type": "code",
   "execution_count": 80,
   "metadata": {
    "collapsed": true
   },
   "outputs": [],
   "source": [
    "def plot_RMS(RMS_ls, interpolation):\n",
    "    x = np.arange(0,70,1)\n",
    "    labels = RMS_ls[0][:70]\n",
    "    resolutions = ['6.4','8','10']\n",
    "    for idx in xrange(3): # RMS\n",
    "        plt.figure(figsize=[15,4])\n",
    "        for i in xrange(6):\n",
    "            plt.plot(RMS_ls[idx+1][i*70:(i+1)*70], '^' ,label = 'rotation axis: '+ axes_dict.keys()[i])\n",
    "        plt.title('%s RMS %smm Resolution' % (interpolation, resolutions[idx]))\n",
    "        plt.xticks(x, labels, rotation='vertical')\n",
    "        plt.legend(loc='center left', bbox_to_anchor=(1, 0.5))\n",
    "        plt.show()\n",
    "\n",
    "    for idx in xrange(3): # RMS for Rotations only\n",
    "        plt.figure(figsize=[15,4])\n",
    "        for i in xrange(6):\n",
    "            plt.plot(RMS_ls[idx+4][i*70:(i+1)*70], '^' ,label = 'rotation axis: '+ axes_dict.keys()[i])\n",
    "        plt.title('%s Rotation RMS %smm Resolution' % (interpolation, resolutions[idx]))\n",
    "        plt.xticks(x, labels, rotation='vertical')\n",
    "        plt.legend(loc='center left', bbox_to_anchor=(1, 0.5))\n",
    "        plt.show()\n",
    "        \n",
    "    for idx in xrange(3): # RMS for Translations only\n",
    "        plt.figure(figsize=[15,4])\n",
    "        for i in xrange(6):\n",
    "            plt.plot(RMS_ls[idx+7][i*70:(i+1)*70], '^' ,label = 'translation axis: '+ axes_dict[axes_dict.keys()[i]])\n",
    "        plt.title('%s Translation RMS %smm Resolution' % (interpolation, resolutions[idx]))\n",
    "        plt.xticks(x, labels, rotation='vertical')\n",
    "        plt.legend(loc='center left', bbox_to_anchor=(1, 0.5))\n",
    "        plt.show()"
   ]
  },
  {
   "cell_type": "code",
   "execution_count": 81,
   "metadata": {
    "collapsed": true
   },
   "outputs": [],
   "source": [
    "from scipy.stats import rankdata\n",
    "def signed_rank_test(array1,array2):\n",
    "    # Compute difference\n",
    "    diff = np.array(array1)-np.array(array2)\n",
    "    # record signs\n",
    "    sign = np.sign(diff)\n",
    "    # take absolute value\n",
    "    abs_diff = abs(diff)\n",
    "\n",
    "    # find indexes that sort an array\n",
    "    indexes = np.argsort(abs_diff)\n",
    "\n",
    "    # sorted difference and signs\n",
    "    sorted_diff_all = abs_diff[indexes]\n",
    "    sorted_sign_all = sign[indexes]\n",
    "\n",
    "    # delete zero differences\n",
    "    mask = sorted_diff_all >= 1e-10\n",
    "    sorted_diff = sorted_diff_all[mask]\n",
    "    sorted_sign = sorted_sign_all[mask]\n",
    "\n",
    "    # Find max W\n",
    "    N = len(sorted_diff)\n",
    "    max_W = N*(N+1)/2.\n",
    "    sigma_w = np.sqrt(N*(N+1)*(2*N+1)/6.)\n",
    "    #print N, max_W\n",
    "\n",
    "    # final difference\n",
    "    final_diff = sorted_diff*sorted_sign\n",
    "\n",
    "    # find rank\n",
    "    rank = rankdata(sorted_diff)\n",
    "\n",
    "    # final rank\n",
    "    final_rank = sorted_sign*rank\n",
    "\n",
    "    # score\n",
    "    w = np.sum(final_rank)\n",
    "    \n",
    "    # z score\n",
    "    z = (w-0.5)/sigma_w\n",
    "    return N, max_W, w, z"
   ]
  },
  {
   "cell_type": "code",
   "execution_count": 165,
   "metadata": {
    "collapsed": true
   },
   "outputs": [],
   "source": [
    "date = 'july26'\n",
    "model = 'AP'\n",
    "ranges = ['2_5_to_12_5']"
   ]
  },
  {
   "cell_type": "markdown",
   "metadata": {},
   "source": [
    "## Run Gauss Newton with BSplines on all data"
   ]
  },
  {
   "cell_type": "code",
   "execution_count": 166,
   "metadata": {
    "collapsed": false,
    "scrolled": true
   },
   "outputs": [],
   "source": [
    "cost_dict_bsplines_6_4 = pickle.load(open('/Users/zyzdiana/Dropbox/THESIS/Pickled_Results/july26_dict_PE_%s_BSpline_GN2_6_4mm.p'%model,'rb'))\n",
    "cost_dict_bsplines_8 = pickle.load(open('/Users/zyzdiana/Dropbox/THESIS/Pickled_Results/july26_dict_PE_%s_BSpline_GN2_8mm.p'%model,'rb'))\n",
    "cost_dict_bsplines_10 = pickle.load(open('/Users/zyzdiana/Dropbox/THESIS/Pickled_Results/july26_dict_PE_%s_BSpline_GN2_10mm.p'%model,'rb'))\n",
    "\n",
    "# RMS_bspline = compute_RMS(cost_dict_bsplines_6_4,cost_dict_bsplines_8,cost_dict_bsplines_10,1)\n",
    "# RMS_bspline = compute_RMS(cost_dict_bsplines_6_4,cost_dict_bsplines_8,cost_dict_bsplines_10,2)\n",
    "\n",
    "#plot_RMS(RMS_bspline, 'bspline')"
   ]
  },
  {
   "cell_type": "markdown",
   "metadata": {},
   "source": [
    "## Run Gauss Newton with Trilinear on all data"
   ]
  },
  {
   "cell_type": "code",
   "execution_count": 167,
   "metadata": {
    "collapsed": false,
    "scrolled": true
   },
   "outputs": [],
   "source": [
    "cost_dict_linear_6_4 = pickle.load(open('/Users/zyzdiana/Dropbox/THESIS/Pickled_Results/july26_dict_PE_%s_Linear_GN2_6_4mm.p'%model,'rb'))\n",
    "cost_dict_linear_8 = pickle.load(open('/Users/zyzdiana/Dropbox/THESIS/Pickled_Results/july26_dict_PE_%s_Linear_GN2_8mm.p'%model,'rb'))\n",
    "cost_dict_linear_10 = pickle.load(open('/Users/zyzdiana/Dropbox/THESIS/Pickled_Results/july26_dict_PE_%s_Linear_GN2_10mm.p'%model,'rb'))\n",
    "\n",
    "\n",
    "# RMS_linear = compute_RMS(cost_dict_linear_6_4,cost_dict_linear_8,cost_dict_linear_10, 2)\n",
    "# RMS_linear = compute_RMS(cost_dict_linear_6_4,cost_dict_linear_8,cost_dict_linear_10, 2)\n",
    "\n",
    "#plot_RMS(RMS_linear, 'linear')"
   ]
  },
  {
   "cell_type": "markdown",
   "metadata": {},
   "source": [
    "## Run Gauss Newton with Tricubic on all data"
   ]
  },
  {
   "cell_type": "code",
   "execution_count": 168,
   "metadata": {
    "collapsed": false
   },
   "outputs": [],
   "source": [
    "cost_dict_cubic_6_4 = pickle.load(open('/Users/zyzdiana/Dropbox/THESIS/Pickled_Results/july26_dict_PE_%s_tricubic_GN2_6_4mm.p'%model,'rb'))\n",
    "cost_dict_cubic_8 = pickle.load(open('/Users/zyzdiana/Dropbox/THESIS/Pickled_Results/july26_dict_PE_%s_tricubic_GN2_8mm.p'%model,'rb'))\n",
    "cost_dict_cubic_10 = pickle.load(open('/Users/zyzdiana/Dropbox/THESIS/Pickled_Results/july26_dict_PE_%s_tricubic_GN2_10mm.p'%model,'rb'))\n",
    "\n",
    "# RMS_cubic = compute_RMS(cost_dict_cubic_6_4,cost_dict_cubic_8,cost_dict_cubic_10, 2)\n",
    "# RMS_cubic = compute_RMS(cost_dict_cubic_6_4,cost_dict_cubic_8,cost_dict_cubic_10, 2)\n",
    "\n",
    "#plot_RMS(RMS_cubic, 'cubic')"
   ]
  },
  {
   "cell_type": "code",
   "execution_count": 169,
   "metadata": {
    "collapsed": false
   },
   "outputs": [],
   "source": [
    "RMS_bspline = compute_RMS(cost_dict_bsplines_6_4,cost_dict_bsplines_8,cost_dict_bsplines_10, 2)\n",
    "RMS_cubic = compute_RMS(cost_dict_cubic_6_4,cost_dict_cubic_8,cost_dict_cubic_10, 2)\n",
    "RMS_linear = compute_RMS(cost_dict_linear_6_4,cost_dict_linear_8,cost_dict_linear_10, 2)"
   ]
  },
  {
   "cell_type": "code",
   "execution_count": 170,
   "metadata": {
    "collapsed": false
   },
   "outputs": [
    {
     "data": {
      "text/plain": [
       "1.3101049997870975"
      ]
     },
     "execution_count": 170,
     "metadata": {},
     "output_type": "execute_result"
    }
   ],
   "source": [
    "np.max(RMS_bspline[3])"
   ]
  },
  {
   "cell_type": "code",
   "execution_count": 158,
   "metadata": {
    "collapsed": false
   },
   "outputs": [],
   "source": [
    "RMS_bspline1 = compute_RMS(cost_dict_bsplines_6_4,cost_dict_bsplines_8,cost_dict_bsplines_10, 1)\n",
    "RMS_cubic1 = compute_RMS(cost_dict_cubic_6_4,cost_dict_cubic_8,cost_dict_cubic_10, 1)\n",
    "RMS_linear1 = compute_RMS(cost_dict_linear_6_4,cost_dict_linear_8,cost_dict_linear_10, 1)"
   ]
  },
  {
   "cell_type": "code",
   "execution_count": 118,
   "metadata": {
    "collapsed": true
   },
   "outputs": [],
   "source": [
    "pickle.dump(RMS_bspline,open('RMS_bspline_july26_PE_%s.p'%model,'wb'))\n",
    "pickle.dump(RMS_cubic,open('RMS_cubic_july26_PE_%s.p'%model,'wb'))\n",
    "pickle.dump(RMS_linear,open('RMS_linear_july26_PE_%s.p'%model,'wb'))\n",
    "\n",
    "pickle.dump(RMS_bspline1,open('RMS_bspline1_july26_PE_%s.p'%model,'wb'))\n",
    "pickle.dump(RMS_cubic1,open('RMS_cubic1_july26_PE_%s.p'%model,'wb'))\n",
    "pickle.dump(RMS_linear1,open('RMS_linear1_july26_PE_%s.p'%model,'wb'))"
   ]
  },
  {
   "cell_type": "code",
   "execution_count": 152,
   "metadata": {
    "collapsed": false
   },
   "outputs": [
    {
     "name": "stdout",
     "output_type": "stream",
     "text": [
      "RMS_bspline_july26_PE_AP.p\n",
      "RMS_bspline_july26_PE_RL.p\n",
      "RMS_cubic_july26_PE_AP.p\n",
      "RMS_cubic_july26_PE_RL.p\n",
      "RMS_linear_july26_PE_AP.p\n",
      "RMS_linear_july26_PE_RL.p\n",
      "6\n",
      "6\n"
     ]
    }
   ],
   "source": [
    "PE_AP_data_ls = []\n",
    "interps = ['bspline','cubic','linear']\n",
    "models = ['AP','RL']\n",
    "for interp in interps:\n",
    "    for m in models:\n",
    "        RMS_interp = pickle.load(open('RMS_%s_july26_PE_%s.p'%(interp,m),'rb'))\n",
    "        print 'RMS_%s_july26_PE_%s.p'%(interp,m)\n",
    "        PE_AP_data_ls.append(RMS_interp)\n",
    "print len(PE_AP_data_ls)\n",
    "pickle.dump(PE_AP_data_ls,open('PE_AP_data_ls.p','wb'))\n",
    "\n",
    "PE_AP_data_ls_1 = []\n",
    "interps = ['bspline1','cubic1','linear1']\n",
    "dates = ['june8','july15','july26']\n",
    "for interp in interps:\n",
    "    for m in models:\n",
    "        RMS_interp = pickle.load(open('RMS_%s_july26_PE_%s.p'%(interp,m),'rb'))\n",
    "        PE_AP_data_ls_1.append(RMS_interp)\n",
    "print len(PE_AP_data_ls_1)\n",
    "pickle.dump(PE_AP_data_ls_1,open('PE_AP_data_ls_1.p','wb'))"
   ]
  },
  {
   "cell_type": "code",
   "execution_count": null,
   "metadata": {
    "collapsed": true
   },
   "outputs": [],
   "source": [
    "# compute large translation data rms\n",
    "dates = ['oct13','june8','july15','july26']\n",
    "for date in dates:\n",
    "    cost_dict_bsplines_6_4 = pickle.load(open('/Users/zyzdiana/Dropbox/THESIS/Pickled_Results/%s_large_trans_BSpline_GN2_6_4mm.p'%date,'rb'))\n",
    "    cost_dict_bsplines_8 = pickle.load(open('/Users/zyzdiana/Dropbox/THESIS/Pickled_Results/%s_large_trans_BSpline_GN2_8mm.p'%date,'rb'))\n",
    "    cost_dict_bsplines_10 = pickle.load(open('/Users/zyzdiana/Dropbox/THESIS/Pickled_Results/%s_large_trans_BSpline_GN2_10mm.p'%date,'rb'))\n",
    "\n",
    "    cost_dict_linear_6_4 = pickle.load(open('/Users/zyzdiana/Dropbox/THESIS/Pickled_Results/%s_large_trans_Linear_GN2_6_4mm.p'%date,'rb'))\n",
    "    cost_dict_linear_8 = pickle.load(open('/Users/zyzdiana/Dropbox/THESIS/Pickled_Results/%s_large_trans_Linear_GN2_8mm.p'%date,'rb'))\n",
    "    cost_dict_linear_10 = pickle.load(open('/Users/zyzdiana/Dropbox/THESIS/Pickled_Results/%s_large_trans_Linear_GN2_10mm.p'%date,'rb'))\n",
    "    \n",
    "    cost_dict_cubic_6_4 = pickle.load(open('/Users/zyzdiana/Dropbox/THESIS/Pickled_Results/%s_large_trans_tricubic_GN2_6_4mm.p'%date,'rb'))\n",
    "    cost_dict_cubic_8 = pickle.load(open('/Users/zyzdiana/Dropbox/THESIS/Pickled_Results/%s_large_trans_tricubic_GN2_8mm.p'%date,'rb'))\n",
    "    cost_dict_cubic_10 = pickle.load(open('/Users/zyzdiana/Dropbox/THESIS/Pickled_Results/%s_large_trans_tricubic_GN2_10mm.p'%date,'rb'))  \n",
    "    \n",
    "    RMS_bspline = compute_RMS(cost_dict_bsplines_6_4,cost_dict_bsplines_8,cost_dict_bsplines_10, 2)\n",
    "    RMS_cubic = compute_RMS(cost_dict_cubic_6_4,cost_dict_cubic_8,cost_dict_cubic_10, 2)\n",
    "    RMS_linear = compute_RMS(cost_dict_linear_6_4,cost_dict_linear_8,cost_dict_linear_10, 2)\n",
    "    \n",
    "    RMS_bspline1 = compute_RMS(cost_dict_bsplines_6_4,cost_dict_bsplines_8,cost_dict_bsplines_10, 1)\n",
    "    RMS_cubic1 = compute_RMS(cost_dict_cubic_6_4,cost_dict_cubic_8,cost_dict_cubic_10, 1)\n",
    "    RMS_linear1 = compute_RMS(cost_dict_linear_6_4,cost_dict_linear_8,cost_dict_linear_10, 1)\n",
    "    \n",
    "    pickle.dump(RMS_bspline,open('RMS_bspline_%s_large_trans.p'%date,'wb'))\n",
    "    pickle.dump(RMS_cubic,open('RMS_cubic_%s_large_trans.p'%date,'wb'))\n",
    "    pickle.dump(RMS_linear,open('RMS_linear_%s_large_trans.p'%date,'wb'))\n",
    "\n",
    "    pickle.dump(RMS_bspline1,open('RMS_bspline1_%s_large_trans.p'%date,'wb'))\n",
    "    pickle.dump(RMS_cubic1,open('RMS_cubic1_%s_large_trans.p'%date,'wb'))\n",
    "    pickle.dump(RMS_linear1,open('RMS_linear1_%s_large_trans.p'%date,'wb'))"
   ]
  },
  {
   "cell_type": "code",
   "execution_count": 68,
   "metadata": {
    "collapsed": false
   },
   "outputs": [
    {
     "name": "stdout",
     "output_type": "stream",
     "text": [
      "9\n",
      "9\n"
     ]
    }
   ],
   "source": [
    "large_trans_data_ls = []\n",
    "interps = ['bspline','cubic','linear']\n",
    "dates = ['oct13','june8','july15','july26']\n",
    "for interp in interps:\n",
    "    for d in dates:\n",
    "        RMS_interp = pickle.load(open('RMS_%s_%s_large_trans.p'%(interp,d),'rb'))\n",
    "        large_trans_data_ls.append(RMS_interp)\n",
    "print len(large_trans_data_ls)\n",
    "pickle.dump(large_trans_data_ls,open('large_trans_data_ls.p','wb'))\n",
    "\n",
    "large_trans_data_ls_1 = []\n",
    "interps = ['bspline1','cubic1','linear1']\n",
    "dates = ['oct13','june8','july15','july26']\n",
    "for interp in interps:\n",
    "    for d in dates:\n",
    "        RMS_interp = pickle.load(open('RMS_%s_%s_large_trans.p'%(interp,d),'rb'))\n",
    "        large_trans_data_ls_1.append(RMS_interp)\n",
    "print len(large_trans_data_ls_1)\n",
    "pickle.dump(large_trans_data_ls_1,open('large_trans_data_ls_1.p','wb'))"
   ]
  },
  {
   "cell_type": "code",
   "execution_count": 120,
   "metadata": {
    "collapsed": true
   },
   "outputs": [],
   "source": [
    "import plotly.plotly as py\n",
    "from plotly.tools import FigureFactory as FF\n",
    "import plotly.graph_objs as go"
   ]
  },
  {
   "cell_type": "code",
   "execution_count": 62,
   "metadata": {
    "collapsed": true
   },
   "outputs": [],
   "source": [
    "c= ['hsl('+str(h)+',50%'+',50%)' for h in np.linspace(0, 360, 9)]\n",
    "colors = []\n",
    "for color in c:\n",
    "    colors += [color]*70\n",
    "    \n",
    "xx = np.ones(420)\n",
    "\n",
    "rot_axes = ['x','y','z','xy','yz','xz']\n",
    "ax_labels = []\n",
    "for ax in rot_axes:\n",
    "    ax_labels += [ax]*70\n",
    "labels = ['10mm\\nCubic\\nB-spline','10mm\\nTricubic','10mm\\nTrilinear',\n",
    "          '8mm\\nCubic\\nB-spline','8mm\\nTricubic','8mm\\nTrilinear',\n",
    "          '6.4mm\\nCubic\\nB-spline','6.4mm\\nTricubic','6.4mm\\nTrilinear']"
   ]
  },
  {
   "cell_type": "code",
   "execution_count": 148,
   "metadata": {
    "collapsed": true
   },
   "outputs": [],
   "source": [
    "c= ['hsl('+str(h)+',50%'+',50%)' for h in np.linspace(0, 360, 9)]\n",
    "colors = []\n",
    "for color in c:\n",
    "    colors += [color]*70\n",
    "    \n",
    "xx = np.ones(35)\n",
    "\n",
    "rot_axes = ['x']\n",
    "ax_labels = []\n",
    "for ax in rot_axes:\n",
    "    ax_labels += [ax]*70\n",
    "labels = ['10mm\\nCubic\\nB-spline','10mm\\nTricubic','10mm\\nTrilinear',\n",
    "          '8mm\\nCubic\\nB-spline','8mm\\nTricubic','8mm\\nTrilinear',\n",
    "          '6.4mm\\nCubic\\nB-spline','6.4mm\\nTricubic','6.4mm\\nTrilinear']"
   ]
  },
  {
   "cell_type": "code",
   "execution_count": 174,
   "metadata": {
    "collapsed": true
   },
   "outputs": [],
   "source": [
    "def plotly_scatter(data_ls, idx_ls, title, ylabel, num_subject = 3):\n",
    "    l = []\n",
    "    index = 1\n",
    "\n",
    "    for idx in idx_ls:\n",
    "        for ii, ls in enumerate(data_ls):\n",
    "            subj_idx = (ii+1) % num_subject\n",
    "            print subj_idx\n",
    "            trace0= go.Scatter(\n",
    "                x= ((xx * index) - 0.3) + (0.2*subj_idx),\n",
    "                y= ls[idx],\n",
    "                mode= 'markers',\n",
    "                marker= dict(size= 14,\n",
    "                            line= dict(width=1),\n",
    "                            color= c[index-1],\n",
    "                            opacity= 0.3\n",
    "                           ),\n",
    "                name= 'PE %s' % models[subject-1],\n",
    "                text= 'x') # The hover text goes here... \n",
    "            l.append(trace0);\n",
    "            if(subj_idx) == 0:\n",
    "                index += 1\n",
    "\n",
    "    layout= go.Layout(\n",
    "        title= title,\n",
    "        hovermode= 'closest',\n",
    "        xaxis= dict(\n",
    "            title= '',\n",
    "            ticklen= 5,\n",
    "            zeroline= False,\n",
    "            gridwidth= 2,\n",
    "            ticktext = labels,\n",
    "            tickvals = [1,2,3,4,5,6,7,8,9]\n",
    "        ),\n",
    "        yaxis=dict(\n",
    "            title= ylabel,\n",
    "            ticklen= 5,\n",
    "            gridwidth= 2,\n",
    "        ),\n",
    "        showlegend= False\n",
    "    )\n",
    "    fig= go.Figure(data=l, layout=layout)\n",
    "    return fig"
   ]
  },
  {
   "cell_type": "code",
   "execution_count": 175,
   "metadata": {
    "collapsed": false
   },
   "outputs": [
    {
     "name": "stdout",
     "output_type": "stream",
     "text": [
      "1\n",
      "0\n",
      "1\n",
      "0\n",
      "1\n",
      "0\n",
      "1\n",
      "0\n",
      "1\n",
      "0\n",
      "1\n",
      "0\n",
      "1\n",
      "0\n",
      "1\n",
      "0\n",
      "1\n",
      "0\n"
     ]
    },
    {
     "data": {
      "text/html": [
       "<iframe id=\"igraph\" scrolling=\"no\" style=\"border:none;\" seamless=\"seamless\" src=\"https://plot.ly/~zyzdiana/442.embed\" height=\"525px\" width=\"100%\"></iframe>"
      ],
      "text/plain": [
       "<plotly.tools.PlotlyDisplay object>"
      ]
     },
     "execution_count": 175,
     "metadata": {},
     "output_type": "execute_result"
    }
   ],
   "source": [
    "fig = plotly_scatter(PE_AP_data_ls, [3,2,1], 'RMS error PE AP RL', 'RMS', 2)\n",
    "py.iplot(fig)"
   ]
  },
  {
   "cell_type": "code",
   "execution_count": 173,
   "metadata": {
    "collapsed": false
   },
   "outputs": [
    {
     "data": {
      "text/html": [
       "<iframe id=\"igraph\" scrolling=\"no\" style=\"border:none;\" seamless=\"seamless\" src=\"https://plot.ly/~zyzdiana/440.embed\" height=\"525px\" width=\"100%\"></iframe>"
      ],
      "text/plain": [
       "<plotly.tools.PlotlyDisplay object>"
      ]
     },
     "execution_count": 173,
     "metadata": {},
     "output_type": "execute_result"
    }
   ],
   "source": [
    "fig = plotly_scatter(PE_AP_data_ls,[12,11,10], 'Max Displacement PE RL', 'Max', 2)\n",
    "py.iplot(fig)"
   ]
  },
  {
   "cell_type": "code",
   "execution_count": null,
   "metadata": {
    "collapsed": true
   },
   "outputs": [],
   "source": []
  },
  {
   "cell_type": "code",
   "execution_count": null,
   "metadata": {
    "collapsed": true
   },
   "outputs": [],
   "source": []
  },
  {
   "cell_type": "code",
   "execution_count": 74,
   "metadata": {
    "collapsed": false
   },
   "outputs": [
    {
     "data": {
      "text/html": [
       "<iframe id=\"igraph\" scrolling=\"no\" style=\"border:none;\" seamless=\"seamless\" src=\"https://plot.ly/~zyzdiana/134.embed\" height=\"525px\" width=\"100%\"></iframe>"
      ],
      "text/plain": [
       "<plotly.tools.PlotlyDisplay object>"
      ]
     },
     "execution_count": 74,
     "metadata": {},
     "output_type": "execute_result"
    }
   ],
   "source": [
    "fig = plotly_scatter([12,11,10], 'Maximum Displacement', 'Max')\n",
    "py.iplot(fig)"
   ]
  },
  {
   "cell_type": "code",
   "execution_count": null,
   "metadata": {
    "collapsed": true
   },
   "outputs": [],
   "source": []
  }
 ],
 "metadata": {
  "kernelspec": {
   "display_name": "Python 2",
   "language": "python",
   "name": "python2"
  },
  "language_info": {
   "codemirror_mode": {
    "name": "ipython",
    "version": 2
   },
   "file_extension": ".py",
   "mimetype": "text/x-python",
   "name": "python",
   "nbconvert_exporter": "python",
   "pygments_lexer": "ipython2",
   "version": "2.7.12"
  }
 },
 "nbformat": 4,
 "nbformat_minor": 0
}
