{
 "cells": [
  {
   "cell_type": "code",
   "execution_count": 1,
   "metadata": {
    "collapsed": true
   },
   "outputs": [],
   "source": [
    "%load_ext autoreload\n",
    "%autoreload 2\n",
    "%reload_ext autoreload"
   ]
  },
  {
   "cell_type": "code",
   "execution_count": 2,
   "metadata": {
    "collapsed": true
   },
   "outputs": [],
   "source": [
    "%matplotlib inline\n",
    "import matplotlib.pyplot as plt\n",
    "import pandas as pd\n",
    "import cPickle as pickle\n",
    "import multiprocessing\n",
    "import scipy.special\n",
    "import numpy as np\n",
    "import numpy.fft as fft\n",
    "import time\n",
    "import os\n",
    "import sys\n",
    "sys.path.insert(1,'/Users/zyzdiana/GitHub/AC297r-Volume-Registration/code')"
   ]
  },
  {
   "cell_type": "code",
   "execution_count": 3,
   "metadata": {
    "collapsed": true
   },
   "outputs": [],
   "source": [
    "from conversion import rotation_matrix_fromq,rotation_matrix_from_params,rotation_matrix_to_q,angles_from_q\n",
    "from utils import to_radian,res_to_rad,ax_to_w,rep_to_angle"
   ]
  },
  {
   "cell_type": "code",
   "execution_count": 7,
   "metadata": {
    "collapsed": false
   },
   "outputs": [
    {
     "name": "stdout",
     "output_type": "stream",
     "text": [
      "{'xz': 'xy', 'y': 'z', 'yz': 'xy', 'xy': 'xy', 'x': 'z', 'z': 'z'}\n",
      "{'xy': 3, 'xz': 0, 'yz': 2, 'y': 1, 'x': 4, 'z': 5}\n"
     ]
    }
   ],
   "source": [
    "# Get All Axes of Rotations\n",
    "path = '/Users/zyzdiana/Dropbox/THESIS/July_26_2016_navs/'\n",
    "resolutions = ['6_4mm', '8mm', '10mm']\n",
    "ranges = ['0_5_to_2_5','3_0_to_5_0','2_5_to_12_5','15_to_25']\n",
    "files = os.listdir(path)\n",
    "axes_dict = {}\n",
    "for f in files[1:]:\n",
    "    rot_ax = f.split('_')[2]\n",
    "    trans_ax = f.split('_')[10]\n",
    "    if not axes_dict.has_key(rot_ax):\n",
    "        axes_dict[rot_ax] = trans_ax\n",
    "print axes_dict\n",
    "keys = axes_dict.keys()\n",
    "\n",
    "rot_axes = ['xz', 'y', 'yz', 'xy', 'x', 'z']\n",
    "ax_to_idx = {}\n",
    "for rot_ax in rot_axes:\n",
    "    ax_to_idx[rot_ax] = rot_axes.index(rot_ax)\n",
    "print ax_to_idx"
   ]
  },
  {
   "cell_type": "code",
   "execution_count": 5,
   "metadata": {
    "collapsed": true
   },
   "outputs": [],
   "source": [
    "data_ls_all = pickle.load(open('data_ls_all.p','rb'))\n",
    "large_rot_data_ls_all = pickle.load(open('large_rot_data_ls_all.p','rb'))"
   ]
  },
  {
   "cell_type": "code",
   "execution_count": 6,
   "metadata": {
    "collapsed": true
   },
   "outputs": [],
   "source": [
    "from scipy.stats import friedmanchisquare"
   ]
  },
  {
   "cell_type": "code",
   "execution_count": 14,
   "metadata": {
    "collapsed": false
   },
   "outputs": [
    {
     "name": "stdout",
     "output_type": "stream",
     "text": [
      "algo 0\n",
      "linear Oct_13_navs June_8_2016_navs July_26_2016_Navs July_15_2016_Navs\n",
      "cubic Oct_13_navs June_8_2016_navs July_26_2016_Navs July_15_2016_Navs\n",
      "cubicBSpline Oct_13_navs June_8_2016_navs July_26_2016_Navs July_15_2016_Navs\n",
      "algo 1\n",
      "linear Oct_13_navs June_8_2016_navs July_26_2016_Navs July_15_2016_Navs\n",
      "cubic Oct_13_navs June_8_2016_navs July_26_2016_Navs July_15_2016_Navs\n",
      "cubicBSpline Oct_13_navs June_8_2016_navs July_26_2016_Navs July_15_2016_Navs\n",
      "algo 2\n",
      "linear Oct_13_navs June_8_2016_navs July_26_2016_Navs July_15_2016_Navs\n",
      "cubic Oct_13_navs June_8_2016_navs July_26_2016_Navs July_15_2016_Navs\n",
      "cubicBSpline Oct_13_navs June_8_2016_navs July_26_2016_Navs July_15_2016_Navs\n",
      "algo 3\n",
      "linear Oct_13_navs June_8_2016_navs July_26_2016_Navs July_15_2016_Navs\n",
      "cubic Oct_13_navs June_8_2016_navs July_26_2016_Navs July_15_2016_Navs\n",
      "cubicBSpline Oct_13_navs June_8_2016_navs July_26_2016_Navs July_15_2016_Navs\n",
      "algo 4\n",
      "linear Oct_13_navs June_8_2016_navs July_26_2016_Navs July_15_2016_Navs\n",
      "cubic Oct_13_navs June_8_2016_navs July_26_2016_Navs July_15_2016_Navs\n",
      "cubicBSpline Oct_13_navs June_8_2016_navs July_26_2016_Navs July_15_2016_Navs\n",
      "algo 5\n",
      "linear Oct_13_navs June_8_2016_navs July_26_2016_Navs July_15_2016_Navs\n",
      "cubic Oct_13_navs June_8_2016_navs July_26_2016_Navs July_15_2016_Navs\n",
      "cubicBSpline Oct_13_navs June_8_2016_navs July_26_2016_Navs July_15_2016_Navs\n"
     ]
    }
   ],
   "source": [
    "#dates = ['June_8_2016_navs', 'July_26_2016_Navs', 'July_15_2016_Navs']\n",
    "dates = ['Oct_13_navs', 'June_8_2016_navs', 'July_26_2016_Navs', 'July_15_2016_Navs']\n",
    "interps = ['linear','cubic','cubicBSpline']\n",
    "for algo in xrange(6):\n",
    "    print 'algo',algo\n",
    "    for interp in interps:\n",
    "        print interp,\n",
    "        for date in dates:\n",
    "            print date,\n",
    "        print"
   ]
  },
  {
   "cell_type": "code",
   "execution_count": 18,
   "metadata": {
    "collapsed": false
   },
   "outputs": [],
   "source": [
    "new_ls_for_test = []\n",
    "for algo in xrange(6):\n",
    "    new_ls = []\n",
    "    for dates in xrange(4):\n",
    "        new_ls  = new_ls + data_ls_all[algo][dates][1]\n",
    "    new_ls_for_test.append(new_ls)"
   ]
  },
  {
   "cell_type": "code",
   "execution_count": 21,
   "metadata": {
    "collapsed": false
   },
   "outputs": [
    {
     "data": {
      "text/plain": [
       "FriedmanchisquareResult(statistic=5012.5546066956995, pvalue=0.0)"
      ]
     },
     "execution_count": 21,
     "metadata": {},
     "output_type": "execute_result"
    }
   ],
   "source": [
    "friedmanchisquare(new_ls_for_test[0],new_ls_for_test[1],new_ls_for_test[2],\n",
    "                  new_ls_for_test[3],new_ls_for_test[4],new_ls_for_test[5])"
   ]
  },
  {
   "cell_type": "code",
   "execution_count": null,
   "metadata": {
    "collapsed": true
   },
   "outputs": [],
   "source": []
  }
 ],
 "metadata": {
  "kernelspec": {
   "display_name": "Python 2",
   "language": "python",
   "name": "python2"
  },
  "language_info": {
   "codemirror_mode": {
    "name": "ipython",
    "version": 2
   },
   "file_extension": ".py",
   "mimetype": "text/x-python",
   "name": "python",
   "nbconvert_exporter": "python",
   "pygments_lexer": "ipython2",
   "version": "2.7.12"
  }
 },
 "nbformat": 4,
 "nbformat_minor": 0
}
