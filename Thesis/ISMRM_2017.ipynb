{
 "cells": [
  {
   "cell_type": "code",
   "execution_count": 1,
   "metadata": {
    "collapsed": false
   },
   "outputs": [],
   "source": [
    "%load_ext autoreload\n",
    "%autoreload 2\n",
    "%reload_ext autoreload"
   ]
  },
  {
   "cell_type": "code",
   "execution_count": 2,
   "metadata": {
    "collapsed": false
   },
   "outputs": [],
   "source": [
    "%matplotlib inline\n",
    "import matplotlib.pyplot as plt\n",
    "import pandas as pd\n",
    "import cPickle as pickle\n",
    "import multiprocessing\n",
    "import scipy.special\n",
    "import numpy as np\n",
    "import numpy.fft as fft\n",
    "import time\n",
    "import os\n",
    "import sys\n",
    "sys.path.insert(1,'/Users/zyzdiana/GitHub/AC297r-Volume-Registration/code')"
   ]
  },
  {
   "cell_type": "code",
   "execution_count": 3,
   "metadata": {
    "collapsed": true
   },
   "outputs": [],
   "source": [
    "import plotly.plotly as py\n",
    "from plotly.tools import FigureFactory as FF\n",
    "import plotly.graph_objs as go"
   ]
  },
  {
   "cell_type": "code",
   "execution_count": 4,
   "metadata": {
    "collapsed": false
   },
   "outputs": [],
   "source": [
    "from conversion import rotation_matrix_fromq,rotation_matrix_from_params,rotation_matrix_to_q,angles_from_q\n",
    "from utils import to_radian,res_to_rad,ax_to_w,rep_to_angle"
   ]
  },
  {
   "cell_type": "code",
   "execution_count": 5,
   "metadata": {
    "collapsed": false
   },
   "outputs": [
    {
     "name": "stdout",
     "output_type": "stream",
     "text": [
      "{'xz': 'xy', 'y': 'z', 'yz': 'xy', 'xy': 'xy', 'x': 'z', 'z': 'z'}\n",
      "{'xy': 3, 'xz': 0, 'yz': 2, 'y': 1, 'x': 4, 'z': 5}\n"
     ]
    }
   ],
   "source": [
    "# Get All Axes of Rotations\n",
    "path = '/Users/zyzdiana/Dropbox/THESIS/July_26_2016_navs/'\n",
    "resolutions = ['6_4mm', '8mm', '10mm']\n",
    "ranges = ['0_5_to_2_5','3_0_to_5_0','2_5_to_12_5','15_to_25']\n",
    "files = os.listdir(path)\n",
    "axes_dict = {}\n",
    "for f in files[1:]:\n",
    "    rot_ax = f.split('_')[2]\n",
    "    trans_ax = f.split('_')[10]\n",
    "    if not axes_dict.has_key(rot_ax):\n",
    "        axes_dict[rot_ax] = trans_ax\n",
    "print axes_dict\n",
    "keys = axes_dict.keys()\n",
    "\n",
    "rot_axes = ['xz', 'y', 'yz', 'xy', 'x', 'z']\n",
    "ax_to_idx = {}\n",
    "for rot_ax in rot_axes:\n",
    "    ax_to_idx[rot_ax] = rot_axes.index(rot_ax)\n",
    "print ax_to_idx"
   ]
  },
  {
   "cell_type": "markdown",
   "metadata": {},
   "source": [
    "# Figure 1 Saggital Slices"
   ]
  },
  {
   "cell_type": "code",
   "execution_count": 6,
   "metadata": {
    "collapsed": true
   },
   "outputs": [],
   "source": [
    "oct13_dict_10 = pickle.load(open('/Users/zyzdiana/Dropbox/THESIS/Pickled_Results/oct13_dict_10.p','rb'))\n",
    "oct13_dict_8 = pickle.load(open('/Users/zyzdiana/Dropbox/THESIS/Pickled_Results/oct13_dict_8.p','rb'))\n",
    "oct13_dict_6_4 = pickle.load(open('/Users/zyzdiana/Dropbox/THESIS/Pickled_Results/oct13_dict_6_4.p','rb'))"
   ]
  },
  {
   "cell_type": "code",
   "execution_count": 7,
   "metadata": {
    "collapsed": false
   },
   "outputs": [
    {
     "data": {
      "image/png": "[encoded data removed]",
      "text/plain": [
       "<matplotlib.figure.Figure at 0x116f59610>"
      ]
     },
     "metadata": {},
     "output_type": "display_data"
    }
   ],
   "source": [
    "fontsize = 20\n",
    "\n",
    "vol_10 = oct13_dict_10[rot_ax][axes_dict[rot_ax]][ranges[0]][(0.0, 0)]\n",
    "vol_8 = oct13_dict_8[rot_ax][axes_dict[rot_ax]][ranges[0]][(0.0, 0)]\n",
    "vol_6_4 = oct13_dict_6_4[rot_ax][axes_dict[rot_ax]][ranges[0]][(0.0, 0)]\n",
    "\n",
    "fig, ax = plt.subplots(1,3)\n",
    "fig.set_figwidth(8.8)\n",
    "fig.set_figheight(3)\n",
    "ax[0].imshow(np.flipud(vol_10[13,:,:].T), interpolation = 'None', cmap='gray')\n",
    "#ax[0].set_title('',fontsize=fontsize)\n",
    "ax[0].set_xlabel('10mm',fontsize=fontsize)\n",
    "ax[1].imshow(np.flipud(vol_8[16,:,:].T), interpolation = 'None', cmap='gray')\n",
    "#ax[1].set_title('HF rotation',fontsize=20)\n",
    "ax[1].set_xlabel('8mm',fontsize=fontsize)\n",
    "ax[2].imshow(np.flipud(vol_6_4[20,:,:].T), interpolation = 'None', cmap='gray')\n",
    "#ax[2].set_title('AP rotation',fontsize=fontsize)\n",
    "ax[2].set_xlabel('6.4mm',fontsize=fontsize)\n",
    "[ax[i].get_xaxis().set_ticks([]) for i in xrange(3)]\n",
    "[ax[i].get_yaxis().set_ticks([]) for i in xrange(3)]\n",
    "fig.savefig('/Users/zyzdiana/Github/ISMRM2017/figure1.png')\n",
    "plt.tight_layout(pad=0, w_pad=0.1, h_pad=0.1)\n",
    "plt.show()"
   ]
  },
  {
   "cell_type": "markdown",
   "metadata": {
    "collapsed": true
   },
   "source": [
    "# Figure 2 & 3 violin plots for small and large rotations"
   ]
  },
  {
   "cell_type": "markdown",
   "metadata": {},
   "source": [
    "## Get all results from C++ code"
   ]
  },
  {
   "cell_type": "code",
   "execution_count": 10,
   "metadata": {
    "collapsed": false
   },
   "outputs": [
    {
     "name": "stdout",
     "output_type": "stream",
     "text": [
      "algo 0\n",
      "linear Oct_13_navs June_8_2016_navs July_26_2016_Navs July_15_2016_Navs\n",
      "cubic Oct_13_navs June_8_2016_navs July_26_2016_Navs July_15_2016_Navs\n",
      "cubicBSpline Oct_13_navs June_8_2016_navs July_26_2016_Navs July_15_2016_Navs\n",
      "algo 1\n",
      "linear Oct_13_navs June_8_2016_navs July_26_2016_Navs July_15_2016_Navs\n",
      "cubic Oct_13_navs June_8_2016_navs July_26_2016_Navs July_15_2016_Navs\n",
      "cubicBSpline Oct_13_navs June_8_2016_navs July_26_2016_Navs July_15_2016_Navs\n",
      "algo 2\n",
      "linear Oct_13_navs June_8_2016_navs July_26_2016_Navs July_15_2016_Navs\n",
      "cubic Oct_13_navs June_8_2016_navs July_26_2016_Navs July_15_2016_Navs\n",
      "cubicBSpline Oct_13_navs June_8_2016_navs July_26_2016_Navs July_15_2016_Navs\n",
      "algo 3\n",
      "linear Oct_13_navs June_8_2016_navs July_26_2016_Navs July_15_2016_Navs\n",
      "cubic Oct_13_navs June_8_2016_navs July_26_2016_Navs July_15_2016_Navs\n",
      "cubicBSpline Oct_13_navs June_8_2016_navs July_26_2016_Navs July_15_2016_Navs\n",
      "algo 4\n",
      "linear Oct_13_navs June_8_2016_navs July_26_2016_Navs July_15_2016_Navs\n",
      "cubic Oct_13_navs June_8_2016_navs July_26_2016_Navs July_15_2016_Navs\n",
      "cubicBSpline Oct_13_navs June_8_2016_navs July_26_2016_Navs July_15_2016_Navs\n",
      "algo 5\n",
      "linear Oct_13_navs June_8_2016_navs July_26_2016_Navs July_15_2016_Navs\n",
      "cubic Oct_13_navs June_8_2016_navs July_26_2016_Navs July_15_2016_Navs\n",
      "cubicBSpline Oct_13_navs June_8_2016_navs July_26_2016_Navs July_15_2016_Navs\n"
     ]
    }
   ],
   "source": [
    "dates = ['Oct_13_navs', 'June_8_2016_navs', 'July_26_2016_Navs', 'July_15_2016_Navs']\n",
    "interps = ['linear','cubic','cubicBSpline']\n",
    "data_ls_all = []\n",
    "output_path = '/Users/zyzdiana/Desktop/C_output_oribi/'\n",
    "for algo in xrange(6):\n",
    "    print 'algo',algo\n",
    "    data_ls = []\n",
    "    for interp in interps:\n",
    "        print interp,\n",
    "        for date in dates:\n",
    "            print date,\n",
    "            path = os.path.join(output_path, date)\n",
    "            data_ls.append(compute_RMS(path, interp, algo, 6, range_start = 0, range_end = 2))\n",
    "        print\n",
    "    data_ls_all.append(data_ls)\n",
    "    \n",
    "pickle.dump(data_ls_all,open('data_ls_all.p','wb'))"
   ]
  },
  {
   "cell_type": "code",
   "execution_count": 77,
   "metadata": {
    "collapsed": false
   },
   "outputs": [
    {
     "name": "stdout",
     "output_type": "stream",
     "text": [
      "algo 0\n",
      "linear June_8_2016_navs July_26_2016_Navs July_15_2016_Navs\n",
      "cubic June_8_2016_navs July_26_2016_Navs July_15_2016_Navs\n",
      "cubicBSpline June_8_2016_navs July_26_2016_Navs July_15_2016_Navs\n",
      "algo 1\n",
      "linear June_8_2016_navs July_26_2016_Navs July_15_2016_Navs\n",
      "cubic June_8_2016_navs July_26_2016_Navs July_15_2016_Navs\n",
      "cubicBSpline June_8_2016_navs July_26_2016_Navs July_15_2016_Navs\n",
      "algo 2\n",
      "linear June_8_2016_navs July_26_2016_Navs July_15_2016_Navs\n",
      "cubic June_8_2016_navs July_26_2016_Navs July_15_2016_Navs\n",
      "cubicBSpline June_8_2016_navs July_26_2016_Navs July_15_2016_Navs\n",
      "algo 3\n",
      "linear June_8_2016_navs July_26_2016_Navs July_15_2016_Navs\n",
      "cubic June_8_2016_navs July_26_2016_Navs July_15_2016_Navs\n",
      "cubicBSpline June_8_2016_navs July_26_2016_Navs July_15_2016_Navs\n",
      "algo 4\n",
      "linear June_8_2016_navs July_26_2016_Navs July_15_2016_Navs\n",
      "cubic June_8_2016_navs July_26_2016_Navs July_15_2016_Navs\n",
      "cubicBSpline June_8_2016_navs July_26_2016_Navs July_15_2016_Navs\n",
      "algo 5\n",
      "linear June_8_2016_navs July_26_2016_Navs July_15_2016_Navs\n",
      "cubic June_8_2016_navs July_26_2016_Navs July_15_2016_Navs\n",
      "cubicBSpline June_8_2016_navs July_26_2016_Navs July_15_2016_Navs\n"
     ]
    }
   ],
   "source": [
    "dates = ['June_8_2016_navs', 'July_26_2016_Navs', 'July_15_2016_Navs']\n",
    "interps = ['linear','cubic','cubicBSpline']\n",
    "large_rot_data_ls_all = []\n",
    "output_path = '/Users/zyzdiana/Desktop/C_output_oribi/'\n",
    "for algo in xrange(6):\n",
    "    print 'algo',algo\n",
    "    data_ls = []\n",
    "    for interp in interps:\n",
    "        print interp,\n",
    "        for date in dates:\n",
    "            print date,\n",
    "            path = os.path.join(output_path, date)\n",
    "            data_ls.append(compute_RMS(path, interp, algo, 6, range_start = 2, range_end = 4, keys = ['x']))\n",
    "        print\n",
    "    large_rot_data_ls_all.append(data_ls)\n",
    "pickle.dump(large_rot_data_ls_all,open('large_rot_data_ls_all.p','wb'))"
   ]
  },
  {
   "cell_type": "code",
   "execution_count": 6,
   "metadata": {
    "collapsed": true
   },
   "outputs": [],
   "source": [
    "data_ls_all = pickle.load(open('data_ls_all.p','rb'))\n",
    "large_rot_data_ls_all = pickle.load(open('large_rot_data_ls_all.p','rb'))"
   ]
  },
  {
   "cell_type": "code",
   "execution_count": null,
   "metadata": {
    "collapsed": true
   },
   "outputs": [],
   "source": [
    "# 1. RMS_ls_6_4, 2. RMS_ls_8, 3. RMS_ls_10"
   ]
  },
  {
   "cell_type": "markdown",
   "metadata": {},
   "source": [
    "## Make Dataframe for Violin Plots"
   ]
  },
  {
   "cell_type": "code",
   "execution_count": 7,
   "metadata": {
    "collapsed": true
   },
   "outputs": [],
   "source": [
    "import pandas as pd\n",
    "labels = ['10mm<br>Trilinear','10mm<br>Tricubic','10mm<br>Cubic<br>B-spline',\n",
    "          '8mm<br>Trilinear','8mm<br>Tricubic','8mm<br>Cubic<br>B-spline',\n",
    "          '6.4mm<br>Trilinear','6.4mm<br>Tricubic','6.4mm<br>Cubic<br>B-spline']\n",
    "\n",
    "columns = ['Label','RMS','RMS_Rotation','RMS_Translation','Max_Dis','Max_Dis_R','RMS_trans_R','Iterations','Time']"
   ]
  },
  {
   "cell_type": "code",
   "execution_count": 8,
   "metadata": {
    "collapsed": true
   },
   "outputs": [],
   "source": [
    "labels = ['10mm<br>Trilinear','10mm<br>Tricubic','10mm',\n",
    "          '8mm<br>Trilinear','8mm<br>Tricubic','8mm',\n",
    "          '6.4mm<br>Trilinear','6.4mm<br>Tricubic','6.4mm']"
   ]
  },
  {
   "cell_type": "code",
   "execution_count": 9,
   "metadata": {
    "collapsed": false
   },
   "outputs": [
    {
     "name": "stdout",
     "output_type": "stream",
     "text": [
      "3780\n",
      "420\n",
      "1260\n",
      "210\n"
     ]
    }
   ],
   "source": [
    "num_subject = 3\n",
    "Labels_ls = []\n",
    "for l in [labels[2]] + [labels[5]] + [labels[8]]:\n",
    "    for subj in xrange(1,num_subject+1):\n",
    "        for j in xrange(420):\n",
    "            Labels_ls.append(l+'<br>Subject %s' %subj)\n",
    "print len(Labels_ls)\n",
    "\n",
    "num_subject = 2\n",
    "Labels_ls_large_rot = []\n",
    "for l in [labels[2]] + [labels[5]] + [labels[8]]:\n",
    "    for subj in xrange(1,num_subject+1):\n",
    "        for j in xrange(70):\n",
    "            Labels_ls_large_rot.append(l+'<br>Subject %s' %(subj+1))\n",
    "print len(Labels_ls_large_rot)\n",
    "\n",
    "Pineapple_label = []\n",
    "for l in [labels[2]] + [labels[5]] + [labels[8]]:\n",
    "    for j in xrange(420):\n",
    "        Pineapple_label.append(l+'<br>Pineapple')\n",
    "print len(Pineapple_label)\n",
    "\n",
    "Pineapple_label_large_rot = []\n",
    "for l in [labels[2]] + [labels[5]] + [labels[8]]:\n",
    "    for j in xrange(70):\n",
    "        Pineapple_label_large_rot.append(l+'<br>Pineapple')\n",
    "print len(Pineapple_label_large_rot)"
   ]
  },
  {
   "cell_type": "code",
   "execution_count": 10,
   "metadata": {
    "collapsed": false
   },
   "outputs": [
    {
     "name": "stdout",
     "output_type": "stream",
     "text": [
      "5040\n"
     ]
    }
   ],
   "source": [
    "num_subject = 4\n",
    "Labels_ls_all = []\n",
    "for l in [labels[2]] + [labels[5]] + [labels[8]]:\n",
    "    for subj in xrange(1,num_subject+1):\n",
    "        if subj != 4:\n",
    "            for j in xrange(420):\n",
    "                Labels_ls_all.append(l+'<br>Subject %s' %subj) \n",
    "        else:\n",
    "            for j in xrange(420):\n",
    "                Labels_ls_all.append(l+'<br>Pineapple')\n",
    "print len(Labels_ls_all)"
   ]
  },
  {
   "cell_type": "code",
   "execution_count": 11,
   "metadata": {
    "collapsed": false
   },
   "outputs": [],
   "source": [
    "def get_subjects_df(data_ls, Labels_ls = Labels_ls, num_subject = 3):\n",
    "    subjects_df = pd.DataFrame(columns = columns)\n",
    "    subjects_df[columns[0]] = Labels_ls\n",
    "    for idx, col in enumerate(columns[1:]):\n",
    "        col_vals = []\n",
    "        for res in [3,2,1]:\n",
    "            for interp in xrange(2,3):\n",
    "                for subj in xrange(num_subject):\n",
    "                    col_vals += data_ls[interp*num_subject+subj][res+(idx*3)]\n",
    "        subjects_df[col] = col_vals\n",
    "    return subjects_df\n",
    "\n",
    "def get_pineapple_df(data_ls, Pineapple_label = Pineapple_label, pineapple_idx = 3, num_subject = 4):\n",
    "    pineapple_df = pd.DataFrame(columns = columns)\n",
    "    pineapple_df[columns[0]] = Pineapple_label\n",
    "    for idx, col in enumerate(columns[1:]):\n",
    "        col_vals = []\n",
    "        for res in [3,2,1]:\n",
    "            for interp in xrange(2,3):\n",
    "                col_vals += data_ls[interp*num_subject+pineapple_idx][res+(idx*3)]\n",
    "        pineapple_df[col] = col_vals\n",
    "    return pineapple_df\n",
    "\n",
    "def get_subjects_df_all(data_ls, Labels_ls = Labels_ls_all, num_subject = 4):\n",
    "    subjects_df = pd.DataFrame(columns = columns)\n",
    "    subjects_df[columns[0]] = Labels_ls\n",
    "    for idx, col in enumerate(columns[1:]):\n",
    "        col_vals = []\n",
    "        for res in [3,2,1]:\n",
    "            for interp in xrange(2,3):\n",
    "                for subj in xrange(num_subject):\n",
    "                    col_vals += data_ls[interp*num_subject+subj][res+(idx*3)]\n",
    "        subjects_df[col] = col_vals\n",
    "    return subjects_df"
   ]
  },
  {
   "cell_type": "code",
   "execution_count": 12,
   "metadata": {
    "collapsed": false
   },
   "outputs": [
    {
     "data": {
      "text/html": [
       "<div>\n",
       "<table border=\"1\" class=\"dataframe\">\n",
       "  <thead>\n",
       "    <tr style=\"text-align: right;\">\n",
       "      <th></th>\n",
       "      <th>Label</th>\n",
       "      <th>RMS</th>\n",
       "      <th>RMS_Rotation</th>\n",
       "      <th>RMS_Translation</th>\n",
       "      <th>Max_Dis</th>\n",
       "      <th>Max_Dis_R</th>\n",
       "      <th>RMS_trans_R</th>\n",
       "      <th>Iterations</th>\n",
       "      <th>Time</th>\n",
       "    </tr>\n",
       "  </thead>\n",
       "  <tbody>\n",
       "    <tr>\n",
       "      <th>0</th>\n",
       "      <td>10mm&lt;br&gt;Subject 1</td>\n",
       "      <td>0.121683</td>\n",
       "      <td>0.048166</td>\n",
       "      <td>0.109453</td>\n",
       "      <td>0.152710</td>\n",
       "      <td>0.084065</td>\n",
       "      <td>0.053167</td>\n",
       "      <td>1</td>\n",
       "      <td>19.156</td>\n",
       "    </tr>\n",
       "    <tr>\n",
       "      <th>1</th>\n",
       "      <td>10mm&lt;br&gt;Subject 1</td>\n",
       "      <td>0.127343</td>\n",
       "      <td>0.059814</td>\n",
       "      <td>0.108889</td>\n",
       "      <td>0.181633</td>\n",
       "      <td>0.104394</td>\n",
       "      <td>0.066025</td>\n",
       "      <td>1</td>\n",
       "      <td>18.306</td>\n",
       "    </tr>\n",
       "    <tr>\n",
       "      <th>2</th>\n",
       "      <td>10mm&lt;br&gt;Subject 1</td>\n",
       "      <td>0.181668</td>\n",
       "      <td>0.098754</td>\n",
       "      <td>0.145328</td>\n",
       "      <td>0.300865</td>\n",
       "      <td>0.172359</td>\n",
       "      <td>0.109009</td>\n",
       "      <td>1</td>\n",
       "      <td>18.589</td>\n",
       "    </tr>\n",
       "    <tr>\n",
       "      <th>3</th>\n",
       "      <td>10mm&lt;br&gt;Subject 1</td>\n",
       "      <td>0.269347</td>\n",
       "      <td>0.160629</td>\n",
       "      <td>0.202753</td>\n",
       "      <td>0.471047</td>\n",
       "      <td>0.280351</td>\n",
       "      <td>0.177309</td>\n",
       "      <td>1</td>\n",
       "      <td>18.775</td>\n",
       "    </tr>\n",
       "    <tr>\n",
       "      <th>4</th>\n",
       "      <td>10mm&lt;br&gt;Subject 1</td>\n",
       "      <td>0.350618</td>\n",
       "      <td>0.212405</td>\n",
       "      <td>0.260692</td>\n",
       "      <td>0.621929</td>\n",
       "      <td>0.370717</td>\n",
       "      <td>0.234462</td>\n",
       "      <td>1</td>\n",
       "      <td>18.866</td>\n",
       "    </tr>\n",
       "  </tbody>\n",
       "</table>\n",
       "</div>"
      ],
      "text/plain": [
       "               Label       RMS  RMS_Rotation  RMS_Translation   Max_Dis  \\\n",
       "0  10mm<br>Subject 1  0.121683      0.048166         0.109453  0.152710   \n",
       "1  10mm<br>Subject 1  0.127343      0.059814         0.108889  0.181633   \n",
       "2  10mm<br>Subject 1  0.181668      0.098754         0.145328  0.300865   \n",
       "3  10mm<br>Subject 1  0.269347      0.160629         0.202753  0.471047   \n",
       "4  10mm<br>Subject 1  0.350618      0.212405         0.260692  0.621929   \n",
       "\n",
       "   Max_Dis_R  RMS_trans_R  Iterations    Time  \n",
       "0   0.084065     0.053167           1  19.156  \n",
       "1   0.104394     0.066025           1  18.306  \n",
       "2   0.172359     0.109009           1  18.589  \n",
       "3   0.280351     0.177309           1  18.775  \n",
       "4   0.370717     0.234462           1  18.866  "
      ]
     },
     "execution_count": 12,
     "metadata": {},
     "output_type": "execute_result"
    }
   ],
   "source": [
    "df = get_subjects_df_all(data_ls_all[0])\n",
    "df.head()"
   ]
  },
  {
   "cell_type": "markdown",
   "metadata": {},
   "source": [
    "## Violin Plot"
   ]
  },
  {
   "cell_type": "code",
   "execution_count": 13,
   "metadata": {
    "collapsed": false
   },
   "outputs": [],
   "source": [
    "from plotly.offline import plot\n",
    "import plotly.graph_objs as go"
   ]
  },
  {
   "cell_type": "code",
   "execution_count": 14,
   "metadata": {
    "collapsed": false
   },
   "outputs": [],
   "source": [
    "colors_dict = {'10mm<br>Subject 1':'rgb(76, 104, 250)',\n",
    "                   '10mm<br>Subject 2':'rgb(25, 200, 120)',\n",
    "                   '10mm<br>Subject 3' :'rgb(236, 0, 67)',\n",
    "                   '8mm<br>Subject 1' : 'rgb(76, 104, 250)',\n",
    "                   '8mm<br>Subject 2' : 'rgb(25, 200, 120)',\n",
    "                   '8mm<br>Subject 3' : 'rgb(236, 0, 67))',\n",
    "                   '6.4mm<br>Subject 1' : 'rgb(76, 104, 250)',\n",
    "                   '6.4mm<br>Subject 2' : 'rgb(25, 200, 120)',\n",
    "                   '6.4mm<br>Subject 3' : 'rgb(236, 0, 67)'}"
   ]
  },
  {
   "cell_type": "code",
   "execution_count": 15,
   "metadata": {
    "collapsed": false
   },
   "outputs": [],
   "source": [
    "colors_dict_large_rot = {'10mm<br>Subject 2':'rgb(25, 200, 120)',\n",
    "                   '10mm<br>Subject 3':'rgb(236, 0, 67)',\n",
    "                   '8mm<br>Subject 2' : 'rgb(25, 200, 120)',\n",
    "                   '8mm<br>Subject 3' : 'rgb(236, 0, 67)',\n",
    "                   '6.4mm<br>Subject 2' : 'rgb(25, 200, 120)',\n",
    "                   '6.4mm<br>Subject 3' : 'rgb(236, 0, 67)',}"
   ]
  },
  {
   "cell_type": "markdown",
   "metadata": {},
   "source": [
    "### Small Rotations"
   ]
  },
  {
   "cell_type": "code",
   "execution_count": 20,
   "metadata": {
    "collapsed": false
   },
   "outputs": [
    {
     "name": "stdout",
     "output_type": "stream",
     "text": [
      "This is the format of your plot grid:\n",
      "[ (1,1) x1,y1 ]  [ (1,2) x2,y1 ]  [ (1,3) x3,y1 ]  [ (1,4) x4,y1 ]  [ (1,5) x5,y1 ]  [ (1,6) x6,y1 ]  [ (1,7) x7,y1 ]  [ (1,8) x8,y1 ]  [ (1,9) x9,y1 ]\n",
      "\n"
     ]
    },
    {
     "data": {
      "text/plain": [
       "'file:///Users/zyzdiana/Github/ISMRM2017/RMS_algo6.html'"
      ]
     },
     "execution_count": 20,
     "metadata": {},
     "output_type": "execute_result"
    }
   ],
   "source": [
    "algo = 5\n",
    "fig = FF.create_violin(get_subjects_df(data_ls_all[algo]), data_header='RMS', group_header='Label', \n",
    "                       height=600, width=1000, title='',colors = colors_dict)\n",
    "plot(fig, filename='/Users/zyzdiana/Github/ISMRM2017/RMS_algo%s.html' % (algo+1), auto_open = True)"
   ]
  },
  {
   "cell_type": "code",
   "execution_count": 16,
   "metadata": {
    "collapsed": false
   },
   "outputs": [
    {
     "name": "stdout",
     "output_type": "stream",
     "text": [
      "This is the format of your plot grid:\n",
      "[ (1,1) x1,y1 ]  [ (1,2) x2,y1 ]  [ (1,3) x3,y1 ]  [ (1,4) x4,y1 ]  [ (1,5) x5,y1 ]  [ (1,6) x6,y1 ]  [ (1,7) x7,y1 ]  [ (1,8) x8,y1 ]  [ (1,9) x9,y1 ]\n",
      "\n"
     ]
    }
   ],
   "source": [
    "algo = 5\n",
    "fig = FF.create_violin(get_subjects_df(data_ls_all[algo]), data_header='RMS', group_header='Label', \n",
    "                       height=600, width=1000, title='',colors = colors_dict)\n",
    "py.image.save_as(fig, filename = '/Users/zyzdiana/Desktop/figure2.svg')"
   ]
  },
  {
   "cell_type": "code",
   "execution_count": 57,
   "metadata": {
    "collapsed": false
   },
   "outputs": [
    {
     "name": "stdout",
     "output_type": "stream",
     "text": [
      "This is the format of your plot grid:\n",
      "[ (1,1) x1,y1 ]  [ (1,2) x2,y1 ]  [ (1,3) x3,y1 ]\n",
      "\n"
     ]
    },
    {
     "data": {
      "text/plain": [
       "'file:///Users/zyzdiana/Github/ISMRM2017/RMS_algo6_pinapple.html'"
      ]
     },
     "execution_count": 57,
     "metadata": {},
     "output_type": "execute_result"
    }
   ],
   "source": [
    "algo = 5\n",
    "fig = FF.create_violin(get_pineapple_df(data_ls_all[algo]), data_header='RMS', group_header='Label', \n",
    "                       height=600, width=1000, title='')\n",
    "plot(fig, filename='/Users/zyzdiana/Github/ISMRM2017/RMS_algo%s_pinapple.html' % (algo+1), auto_open = True)"
   ]
  },
  {
   "cell_type": "markdown",
   "metadata": {},
   "source": [
    "### Large Rotations"
   ]
  },
  {
   "cell_type": "code",
   "execution_count": 21,
   "metadata": {
    "collapsed": false
   },
   "outputs": [
    {
     "name": "stdout",
     "output_type": "stream",
     "text": [
      "This is the format of your plot grid:\n",
      "[ (1,1) x1,y1 ]  [ (1,2) x2,y1 ]  [ (1,3) x3,y1 ]  [ (1,4) x4,y1 ]  [ (1,5) x5,y1 ]  [ (1,6) x6,y1 ]\n",
      "\n"
     ]
    },
    {
     "data": {
      "text/plain": [
       "'file:///Users/zyzdiana/Github/ISMRM2017/RMS_algo6_large_rot.html'"
      ]
     },
     "execution_count": 21,
     "metadata": {},
     "output_type": "execute_result"
    }
   ],
   "source": [
    "algo = 5\n",
    "fig = FF.create_violin(get_subjects_df(large_rot_data_ls_all[algo], Labels_ls_large_rot, 2), data_header='RMS', \n",
    "                       group_header='Label', height=600, width=1000, title='', colors = colors_dict_large_rot)\n",
    "plot(fig, filename='/Users/zyzdiana/Github/ISMRM2017/RMS_algo%s_large_rot.html' % (algo+1), auto_open = True)"
   ]
  },
  {
   "cell_type": "code",
   "execution_count": 17,
   "metadata": {
    "collapsed": false
   },
   "outputs": [
    {
     "name": "stdout",
     "output_type": "stream",
     "text": [
      "This is the format of your plot grid:\n",
      "[ (1,1) x1,y1 ]  [ (1,2) x2,y1 ]  [ (1,3) x3,y1 ]  [ (1,4) x4,y1 ]  [ (1,5) x5,y1 ]  [ (1,6) x6,y1 ]\n",
      "\n"
     ]
    }
   ],
   "source": [
    "algo = 5\n",
    "fig = FF.create_violin(get_subjects_df(large_rot_data_ls_all[algo], Labels_ls_large_rot, 2), data_header='RMS', \n",
    "                       group_header='Label', height=600, width=1000, title='', colors = colors_dict_large_rot)\n",
    "py.image.save_as(fig, filename = '/Users/zyzdiana/Desktop/figure3.svg')"
   ]
  },
  {
   "cell_type": "code",
   "execution_count": 82,
   "metadata": {
    "collapsed": false
   },
   "outputs": [
    {
     "name": "stdout",
     "output_type": "stream",
     "text": [
      "This is the format of your plot grid:\n",
      "[ (1,1) x1,y1 ]  [ (1,2) x2,y1 ]  [ (1,3) x3,y1 ]\n",
      "\n"
     ]
    },
    {
     "data": {
      "text/plain": [
       "'file:///Users/zyzdiana/Github/ISMRM2017/RMS_algo6_pinapple_large_rot.html'"
      ]
     },
     "execution_count": 82,
     "metadata": {},
     "output_type": "execute_result"
    }
   ],
   "source": [
    "algo = 5\n",
    "fig = FF.create_violin(get_pineapple_df(large_rot_data_ls_all[algo],Pineapple_label_large_rot, 2, 3), data_header='RMS', group_header='Label', \n",
    "                       height=600, width=1000, title='')\n",
    "plot(fig, filename='/Users/zyzdiana/Github/ISMRM2017/RMS_algo%s_pinapple_large_rot.html' % (algo+1), auto_open = True)"
   ]
  },
  {
   "cell_type": "markdown",
   "metadata": {
    "collapsed": true
   },
   "source": [
    "# Table 2 Wilcoxon Test Results"
   ]
  },
  {
   "cell_type": "code",
   "execution_count": 70,
   "metadata": {
    "collapsed": true
   },
   "outputs": [],
   "source": [
    "from scipy.stats import rankdata\n",
    "def signed_rank_test(array1,array2):\n",
    "    # Compute difference\n",
    "    diff = np.array(array1)-np.array(array2)\n",
    "    # record signs\n",
    "    sign = np.sign(diff)\n",
    "    # take absolute value\n",
    "    abs_diff = abs(diff)\n",
    "\n",
    "    # find indexes that sort an array\n",
    "    indexes = np.argsort(abs_diff)\n",
    "\n",
    "    # sorted difference and signs\n",
    "    sorted_diff_all = abs_diff[indexes]\n",
    "    sorted_sign_all = sign[indexes]\n",
    "\n",
    "    # delete zero differences\n",
    "    mask = sorted_diff_all >= 1e-10\n",
    "    sorted_diff = sorted_diff_all[mask]\n",
    "    sorted_sign = sorted_sign_all[mask]\n",
    "\n",
    "    # Find max W\n",
    "    N = len(sorted_diff)\n",
    "    max_W = N*(N+1)/2.\n",
    "    sigma_w = np.sqrt(N*(N+1)*(2*N+1)/6.)\n",
    "    #print N, max_W\n",
    "\n",
    "    # final difference\n",
    "    final_diff = sorted_diff*sorted_sign\n",
    "\n",
    "    # find rank\n",
    "    rank = rankdata(sorted_diff)\n",
    "\n",
    "    # final rank\n",
    "    final_rank = sorted_sign*rank\n",
    "\n",
    "    # score\n",
    "    w = np.sum(final_rank)\n",
    "    \n",
    "    # z score\n",
    "    z = (w-0.5)/sigma_w\n",
    "    return N, max_W, w, z"
   ]
  },
  {
   "cell_type": "code",
   "execution_count": 71,
   "metadata": {
    "collapsed": true
   },
   "outputs": [],
   "source": [
    "algo = 5\n",
    "RMS_Bspline_6_4 = data_ls_all[algo][8][1]+data_ls_all[algo][9][1]+data_ls_all[algo][10][1]\n",
    "RMS_Bspline_8 = data_ls_all[algo][8][2]+data_ls_all[algo][9][2]+data_ls_all[algo][10][2]\n",
    "RMS_Bspline_10 =  data_ls_all[algo][8][3]+data_ls_all[algo][9][3]+data_ls_all[algo][10][3]"
   ]
  },
  {
   "cell_type": "code",
   "execution_count": 72,
   "metadata": {
    "collapsed": false
   },
   "outputs": [
    {
     "name": "stdout",
     "output_type": "stream",
     "text": [
      "Cubic B-spline RMS from 10mm to 8mm (8mm - 10mm) 1260 794430.0 -189464.0 -7.33287420212\n",
      "Cubic B-spline RMS from 8mm to 6.4mm (6.4mm - 8mm) 1260 794430.0 -90158.0 -3.48941853884\n",
      "Cubic B-spline RMS from 10mm to 6.4mm (6.4mm - 10mm) 1260 794430.0 -266420.0 -10.3113143167\n"
     ]
    }
   ],
   "source": [
    "# Cubic B-spline RMS from 10mm to 8mm (8mm - 10mm)\n",
    "N, max_W, w, z = signed_rank_test(RMS_Bspline_8,RMS_Bspline_10)\n",
    "print 'Cubic B-spline RMS from 10mm to 8mm (8mm - 10mm)', N, max_W, w, z\n",
    "\n",
    "# Cubic B-spline RMS from 8mm to 6.4mm (6.4mm - 8mm)\n",
    "N, max_W, w, z = signed_rank_test(RMS_Bspline_6_4,RMS_Bspline_8)\n",
    "print 'Cubic B-spline RMS from 8mm to 6.4mm (6.4mm - 8mm)', N, max_W, w, z\n",
    "\n",
    "# Cubic B-spline RMS from 10mm to 6.4mm (6.4mm - 10mm)\n",
    "N, max_W, w, z = signed_rank_test(RMS_Bspline_6_4,RMS_Bspline_10)\n",
    "print 'Cubic B-spline RMS from 10mm to 6.4mm (6.4mm - 10mm)', N, max_W, w, z"
   ]
  },
  {
   "cell_type": "code",
   "execution_count": 73,
   "metadata": {
    "collapsed": true
   },
   "outputs": [],
   "source": [
    "algo = 5\n",
    "RMS_Bspline_6_4 = large_rot_data_ls_all[algo][7][1]+large_rot_data_ls_all[algo][8][1]\n",
    "RMS_Bspline_8 = large_rot_data_ls_all[algo][7][2]+large_rot_data_ls_all[algo][8][2]\n",
    "RMS_Bspline_10 =  large_rot_data_ls_all[algo][7][3]+large_rot_data_ls_all[algo][8][3]"
   ]
  },
  {
   "cell_type": "code",
   "execution_count": 74,
   "metadata": {
    "collapsed": false
   },
   "outputs": [
    {
     "name": "stdout",
     "output_type": "stream",
     "text": [
      "Cubic B-spline RMS from 10mm to 8mm (8mm - 10mm) 140 9870.0 3626.0 3.77065502203\n",
      "Cubic B-spline RMS from 8mm to 6.4mm (6.4mm - 8mm) 140 9870.0 -9086.0 -9.45029840234\n",
      "Cubic B-spline RMS from 10mm to 6.4mm (6.4mm - 10mm) 140 9870.0 -6582.0 -6.84604514757\n"
     ]
    }
   ],
   "source": [
    "# Cubic B-spline RMS from 10mm to 8mm (8mm - 10mm)\n",
    "N, max_W, w, z = signed_rank_test(RMS_Bspline_8,RMS_Bspline_10)\n",
    "print 'Cubic B-spline RMS from 10mm to 8mm (8mm - 10mm)', N, max_W, w, z\n",
    "\n",
    "# Cubic B-spline RMS from 8mm to 6.4mm (6.4mm - 8mm)\n",
    "N, max_W, w, z = signed_rank_test(RMS_Bspline_6_4,RMS_Bspline_8)\n",
    "print 'Cubic B-spline RMS from 8mm to 6.4mm (6.4mm - 8mm)', N, max_W, w, z\n",
    "\n",
    "# Cubic B-spline RMS from 10mm to 6.4mm (6.4mm - 10mm)\n",
    "N, max_W, w, z = signed_rank_test(RMS_Bspline_6_4,RMS_Bspline_10)\n",
    "print 'Cubic B-spline RMS from 10mm to 6.4mm (6.4mm - 10mm)', N, max_W, w, z"
   ]
  },
  {
   "cell_type": "code",
   "execution_count": 77,
   "metadata": {
    "collapsed": true
   },
   "outputs": [],
   "source": [
    "algo = 5\n",
    "RMS_Bspline_s1 = data_ls_all[algo][8][1] + data_ls_all[algo][8][2] + data_ls_all[algo][8][3]\n",
    "RMS_Bspline_s2 = data_ls_all[algo][9][1] + data_ls_all[algo][9][2] + data_ls_all[algo][9][3]\n",
    "RMS_Bspline_s3 = data_ls_all[algo][10][1] + data_ls_all[algo][10][2] + data_ls_all[algo][10][3]\n",
    "RMS_Bspline_p = data_ls_all[algo][11][1] + data_ls_all[algo][11][2] + data_ls_all[algo][11][3]"
   ]
  },
  {
   "cell_type": "code",
   "execution_count": 78,
   "metadata": {
    "collapsed": false
   },
   "outputs": [
    {
     "name": "stdout",
     "output_type": "stream",
     "text": [
      "Cubic B-spline RMS from Pineapple to Subject1 (Subject1 - Pineapple) 1260 794430.0 645474.0 24.9818619124\n",
      "Cubic B-spline RMS from Pineapple to Subject2 (Subject2 - Pineapple) 1260 794430.0 473192.0 18.3140046975\n",
      "Cubic B-spline RMS from Pineapple to Subject3 (Subject3 - Pineapple) 1260 794430.0 432628.0 16.7440498556\n"
     ]
    }
   ],
   "source": [
    "# Cubic B-spline RMS from Pineapple to Subject1 (Subject1 - Pineapple)\n",
    "N, max_W, w, z = signed_rank_test(RMS_Bspline_s1,RMS_Bspline_p)\n",
    "print 'Cubic B-spline RMS from Pineapple to Subject1 (Subject1 - Pineapple)', N, max_W, w, z\n",
    "\n",
    "# Cubic B-spline RMS from Pineapple to Subject2 (Subject2 - Pineapple)\n",
    "N, max_W, w, z = signed_rank_test(RMS_Bspline_s2,RMS_Bspline_p)\n",
    "print 'Cubic B-spline RMS from Pineapple to Subject2 (Subject2 - Pineapple)', N, max_W, w, z\n",
    "\n",
    "# Cubic B-spline RMS from Pineapple to Subject3 (Subject3 - Pineapple)\n",
    "N, max_W, w, z = signed_rank_test(RMS_Bspline_s3,RMS_Bspline_p)\n",
    "print 'Cubic B-spline RMS from Pineapple to Subject3 (Subject3 - Pineapple)', N, max_W, w, z"
   ]
  },
  {
   "cell_type": "code",
   "execution_count": 79,
   "metadata": {
    "collapsed": false
   },
   "outputs": [
    {
     "name": "stdout",
     "output_type": "stream",
     "text": [
      "Cubic B-spline RMS from Subject1 to Subject2 (Subject2 - Subject1) 1260 794430.0 -436428.0 -16.8911605537\n",
      "Cubic B-spline RMS from Subject2 to Subject3 (Subject3 - Subject2) 1260 794430.0 -102430.0 -3.96438367589\n",
      "Cubic B-spline RMS from Subject3 to Subject1 (Subject1 - Subject3) 1260 794430.0 504542.0 19.527348655\n"
     ]
    }
   ],
   "source": [
    "# Cubic B-spline RMS from Subject1 to Subject2 (Subject2 - Subject1)\n",
    "N, max_W, w, z = signed_rank_test(RMS_Bspline_s2,RMS_Bspline_s1)\n",
    "print 'Cubic B-spline RMS from Subject1 to Subject2 (Subject2 - Subject1)', N, max_W, w, z\n",
    "\n",
    "# Cubic B-spline RMS from Subject2 to Subject3 (Subject3 - Subject2)\n",
    "N, max_W, w, z = signed_rank_test(RMS_Bspline_s3,RMS_Bspline_s2)\n",
    "print 'Cubic B-spline RMS from Subject2 to Subject3 (Subject3 - Subject2)', N, max_W, w, z\n",
    "\n",
    "# Cubic B-spline RMS from Subject3 to Subject1 (Subject3 - Subject1)\n",
    "N, max_W, w, z = signed_rank_test(RMS_Bspline_s1,RMS_Bspline_s3)\n",
    "print 'Cubic B-spline RMS from Subject3 to Subject1 (Subject1 - Subject3)', N, max_W, w, z"
   ]
  },
  {
   "cell_type": "code",
   "execution_count": null,
   "metadata": {
    "collapsed": true
   },
   "outputs": [],
   "source": []
  }
 ],
 "metadata": {
  "kernelspec": {
   "display_name": "Python 2",
   "language": "python",
   "name": "python2"
  },
  "language_info": {
   "codemirror_mode": {
    "name": "ipython",
    "version": 2
   },
   "file_extension": ".py",
   "mimetype": "text/x-python",
   "name": "python",
   "nbconvert_exporter": "python",
   "pygments_lexer": "ipython2",
   "version": "2.7.12"
  }
 },
 "nbformat": 4,
 "nbformat_minor": 0
}
