{
 "cells": [
  {
   "cell_type": "code",
   "execution_count": 1,
   "metadata": {
    "collapsed": false
   },
   "outputs": [],
   "source": [
    "%load_ext autoreload\n",
    "%autoreload 2\n",
    "%reload_ext autoreload"
   ]
  },
  {
   "cell_type": "code",
   "execution_count": 2,
   "metadata": {
    "collapsed": false
   },
   "outputs": [],
   "source": [
    "%matplotlib inline\n",
    "import matplotlib.pyplot as plt\n",
    "import pandas as pd\n",
    "import cPickle as pickle\n",
    "import multiprocessing\n",
    "import scipy.special\n",
    "import numpy as np\n",
    "import numpy.fft as fft\n",
    "import time\n",
    "import os\n",
    "import sys\n",
    "sys.path.insert(1,'/Users/zyzdiana/GitHub/AC297r-Volume-Registration/code')"
   ]
  },
  {
   "cell_type": "code",
   "execution_count": 3,
   "metadata": {
    "collapsed": true
   },
   "outputs": [],
   "source": [
    "import plotly.plotly as py\n",
    "from plotly.tools import FigureFactory as FF\n",
    "import plotly.graph_objs as go"
   ]
  },
  {
   "cell_type": "code",
   "execution_count": 4,
   "metadata": {
    "collapsed": false
   },
   "outputs": [],
   "source": [
    "from conversion import rotation_matrix_fromq,rotation_matrix_from_params,rotation_matrix_to_q,angles_from_q\n",
    "from utils import to_radian,res_to_rad,ax_to_w,rep_to_angle"
   ]
  },
  {
   "cell_type": "code",
   "execution_count": 5,
   "metadata": {
    "collapsed": false
   },
   "outputs": [
    {
     "name": "stdout",
     "output_type": "stream",
     "text": [
      "{'xz': 'xy', 'y': 'z', 'yz': 'xy', 'xy': 'xy', 'x': 'z', 'z': 'z'}\n",
      "{'xy': 3, 'xz': 0, 'yz': 2, 'y': 1, 'x': 4, 'z': 5}\n"
     ]
    }
   ],
   "source": [
    "# Get All Axes of Rotations\n",
    "path = '/Users/zyzdiana/Dropbox/THESIS/July_26_2016_navs/'\n",
    "resolutions = ['6_4mm', '8mm', '10mm']\n",
    "ranges = ['0_5_to_2_5','3_0_to_5_0','2_5_to_12_5','15_to_25']\n",
    "files = os.listdir(path)\n",
    "axes_dict = {}\n",
    "for f in files[1:]:\n",
    "    rot_ax = f.split('_')[2]\n",
    "    trans_ax = f.split('_')[10]\n",
    "    if not axes_dict.has_key(rot_ax):\n",
    "        axes_dict[rot_ax] = trans_ax\n",
    "print axes_dict\n",
    "keys = axes_dict.keys()\n",
    "\n",
    "rot_axes = ['xz', 'y', 'yz', 'xy', 'x', 'z']\n",
    "ax_to_idx = {}\n",
    "for rot_ax in rot_axes:\n",
    "    ax_to_idx[rot_ax] = rot_axes.index(rot_ax)\n",
    "print ax_to_idx"
   ]
  },
  {
   "cell_type": "code",
   "execution_count": 6,
   "metadata": {
    "collapsed": true
   },
   "outputs": [],
   "source": [
    "def Max_displacement(dRM, R_axis, dt):\n",
    "    rad = 100\n",
    "    trans_R = rad*np.sqrt(3-np.trace(dRM))\n",
    "    E_max = np.sqrt(trans_R**2 + 2*trans_R*np.linalg.norm(dt-(dt.T.dot(R_axis))*R_axis) + (dt.T).dot(dt))\n",
    "    return trans_R, E_max"
   ]
  },
  {
   "cell_type": "code",
   "execution_count": 7,
   "metadata": {
    "collapsed": true
   },
   "outputs": [],
   "source": [
    "def RMS_Rotation(dRM):\n",
    "    return np.arccos((np.trace(dRM)-1)/2.)*180/np.pi\n",
    "\n",
    "def RMS_Translation(dt):\n",
    "    t = dt\n",
    "    return np.sqrt((t.T).dot(t))\n",
    "def RMS_Translation_R(dRM):\n",
    "    rad = 100\n",
    "    A = dRM - np.eye(3)\n",
    "    return np.sqrt(0.2*rad**2*np.trace((A.T).dot(A)))\n",
    "\n",
    "def RMS(dRM, dt, res_f):\n",
    "    rad = 100\n",
    "    A = dRM - np.eye(3)\n",
    "    return np.sqrt(0.2*rad**2*np.trace((A.T).dot(A))+ (dt.T).dot(dt))\n",
    "    \n",
    "from conversion import rotation_matrix_fromq, rotation_matrix_from_params\n",
    "def get_true_params(rot_angle,rot_ax):\n",
    "    wy,wx,wz = ax_to_w(rot_ax)\n",
    "    wy_t,wx_t,wz_t = ax_to_w(axes_dict[rot_ax])\n",
    "    true_RM = rotation_matrix_fromq(rot_angle[0],wx,wy,wz)\n",
    "    trans_y, trans_x, trans_z = wy_t*rot_angle[1],wx_t*rot_angle[1], wz_t*rot_angle[1]\n",
    "    return [trans_x, trans_y, trans_z], true_RM\n",
    "\n",
    "def get_params(params, res):\n",
    "    RM = rotation_matrix_from_params(-params[3:])\n",
    "    return  params[:3]*res, RM\n",
    "\n",
    "def normalize(v):\n",
    "    norm = np.linalg.norm(v)\n",
    "    if norm == 0: \n",
    "        return v\n",
    "    return v/norm"
   ]
  },
  {
   "cell_type": "code",
   "execution_count": 8,
   "metadata": {
    "collapsed": true
   },
   "outputs": [],
   "source": [
    "keys = ['xz', 'y', 'yz', 'xy', 'x', 'z']\n",
    "\n",
    "def compute_RMS_from_C_output(output_path, output_filename):\n",
    "    results = np.loadtxt(os.path.join(output_path,output_filename))\n",
    "    splits = output_filename.split('_')\n",
    "    res = splits[0][:-2]\n",
    "    res_f = float('.'.join(res.split('_')))\n",
    "    interp = splits[1]\n",
    "    rot_ax = splits[2]\n",
    "    trans_ax = splits[10]\n",
    "    rang = '_'.join(splits[4:9])\n",
    "    \n",
    "    true_params = []\n",
    "    Max_dis = []\n",
    "    Max_dis_R = []\n",
    "    RMS_ls = []\n",
    "    RMS_rotation_ls = []\n",
    "    RMS_translation_ls = []\n",
    "    RMS_trans_R = []\n",
    "    counter_ls = []    \n",
    "    \n",
    "    ref = rep_to_angle(0,rang)\n",
    "    \n",
    "    idx = 0\n",
    "    for rep in xrange(1,36):\n",
    "        rot_angle = rep_to_angle(rep,rang)\n",
    "        true_params.append(rot_angle)\n",
    "        true_t, true_RM = get_true_params(rot_angle,rot_ax)\n",
    "        rad = res_to_rad(res)\n",
    "        \n",
    "        for algo in xrange(8):\n",
    "            counter = results[idx,1]\n",
    "            Ps = results[idx,2:]\n",
    "            R_axis = normalize(Ps[3:])\n",
    "            t , RM = get_params(Ps, res_f)\n",
    "            dt = true_t + t\n",
    "            dR = RM.dot(true_RM.T)\n",
    "            max_trans_R, E_Max = Max_displacement(dR, R_axis, dt)\n",
    "            Max_dis.append(E_Max)\n",
    "            Max_dis_R.append(max_trans_R)\n",
    "            RMS_ls.append(RMS(dR, dt, res_f))\n",
    "            \n",
    "            if(RMS(dR, dt, res_f) > 1):\n",
    "                print idx, rot_ax, rang, rep\n",
    "            if(RMS(dR, dt, res_f) > E_Max):\n",
    "                print rot_ax, rang, rep, rot_angle\n",
    "                print RMS(dR, dt, res_f), E_Max\n",
    "\n",
    "            RMS_rotation_ls.append(RMS_Rotation(dR))\n",
    "            RMS_translation_ls.append(RMS_Translation(dt))\n",
    "            RMS_trans_R.append(RMS_Translation_R(dR))\n",
    "            counter_ls.append(counter)\n",
    "            idx += 1\n",
    "    return [true_params, \n",
    "            RMS_ls, RMS_rotation_ls, RMS_translation_ls, \n",
    "            Max_dis, Max_dis_R, RMS_trans_R, counter_ls]  \n",
    "\n",
    "\n",
    "def compute_RMS(output_path, interp, algo, num_algo = 6, range_start = 0, range_end = 2, keys = keys, axes_dict = axes_dict):\n",
    "    true_params = []\n",
    "    Max_dis_6_4 = []\n",
    "    Max_dis_R_6_4 = []\n",
    "    RMS_ls_6_4 = []\n",
    "    RMS_rotation_ls_6_4 = []\n",
    "    RMS_translation_ls_6_4 = []\n",
    "    RMS_trans_R_6_4 = []\n",
    "    counter_6_4 = []\n",
    "    \n",
    "    Max_dis_8 = []\n",
    "    Max_dis_R_8 = []\n",
    "    RMS_ls_8 = []\n",
    "    RMS_rotation_ls_8 = []\n",
    "    RMS_translation_ls_8 = []\n",
    "    RMS_trans_R_8 = []\n",
    "    counter_8 = []\n",
    "    \n",
    "    Max_dis_10 = []\n",
    "    Max_dis_R_10 = []\n",
    "    RMS_ls_10 = []\n",
    "    RMS_rotation_ls_10 = []\n",
    "    RMS_translation_ls_10 = []\n",
    "    RMS_trans_R_10 = []\n",
    "    counter_10 = []\n",
    "    for ix, rot_ax in enumerate(keys):\n",
    "        for rang in ranges[range_start:range_end]:\n",
    "            ref = rep_to_angle(0,rang)\n",
    "            for rep in xrange(1,36):\n",
    "                rot_angle = rep_to_angle(rep,rang)\n",
    "                true_params.append(rot_angle)\n",
    "                true_t, true_RM = get_true_params(rot_angle,rot_ax)\n",
    "\n",
    "                res = '6_4mm'\n",
    "                res_f =  6.4\n",
    "                rad = res_to_rad(res)\n",
    "                output_file = '%s_%s_rot_%s_deg_%s_trans_%s.txt' % (res, rot_ax, rang, axes_dict[rot_ax], interp)\n",
    "                results = np.loadtxt(os.path.join(output_path,output_file))\n",
    "                idx = algo+(rep-1)*num_algo\n",
    "                counter = results[idx,1]\n",
    "                Ps = results[idx,2:]\n",
    "                R_axis = normalize(Ps[3:])\n",
    "                t , RM = get_params(Ps, res_f)\n",
    "                dt = true_t + t\n",
    "                dR = RM.dot(true_RM.T)\n",
    "                max_trans_R, E_Max = Max_displacement(dR, R_axis, dt)\n",
    "                Max_dis_6_4.append(E_Max)\n",
    "                Max_dis_R_6_4.append(max_trans_R)\n",
    "                RMS_ls_6_4.append(RMS(dR, dt, res_f))\n",
    "#                 if(RMS(dR, dt, res_f) > 1):\n",
    "#                     print ix, rot_ax, rang, rep\n",
    "#                 if(RMS(dR, dt, res_f) > E_Max):\n",
    "#                     print rot_ax, rang, rep, rot_angle\n",
    "#                     print RMS(dR, dt, res_f), E_Max\n",
    "                RMS_rotation_ls_6_4.append(RMS_Rotation(dR))\n",
    "                RMS_translation_ls_6_4.append(RMS_Translation(dt))\n",
    "                RMS_trans_R_6_4.append(RMS_Translation_R(dR))\n",
    "                counter_6_4.append(counter)\n",
    "\n",
    "                res = '8mm'\n",
    "                res_f =  8.0\n",
    "                rad = res_to_rad(res)\n",
    "                output_file = '%s_iso_%s_rot_%s_deg_%s_trans_%s.txt' % (res, rot_ax, rang, axes_dict[rot_ax],interp)\n",
    "                results = np.loadtxt(os.path.join(output_path,output_file))\n",
    "                #for algo in xrange(8):\n",
    "                idx = algo+(rep-1)*num_algo\n",
    "                counter = results[idx,1]\n",
    "                Ps = results[idx,2:]\n",
    "                R_axis = normalize(Ps[3:])\n",
    "                t , RM = get_params(Ps, res_f)\n",
    "                dt = true_t + t\n",
    "                dR = RM.dot(true_RM.T)\n",
    "                max_trans_R, E_Max = Max_displacement(dR, R_axis, dt)\n",
    "                Max_dis_8.append(E_Max)\n",
    "                Max_dis_R_8.append(max_trans_R)\n",
    "                RMS_ls_8.append(RMS(dR, dt, res_f))\n",
    "#                 if(RMS(dR, dt, res_f) > 1):\n",
    "#                     print ix, rot_ax, rang, rep\n",
    "#                 if(RMS(dR, dt, res_f) > E_Max):\n",
    "#                     print rot_ax, rang, rep, rot_angle\n",
    "#                     print RMS(dR, dt, res_f), E_Max\n",
    "                RMS_rotation_ls_8.append(RMS_Rotation(dR))\n",
    "                RMS_translation_ls_8.append(RMS_Translation(dt))\n",
    "                RMS_trans_R_8.append(RMS_Translation_R(dR))\n",
    "                counter_8.append(counter)\n",
    "\n",
    "                res = '10mm'\n",
    "                res_f =  10.0\n",
    "                rad = res_to_rad(res)\n",
    "                output_file = '%s_iso_%s_rot_%s_deg_%s_trans_%s.txt' % (res, rot_ax, rang, axes_dict[rot_ax], interp) \n",
    "                results = np.loadtxt(os.path.join(output_path,output_file))\n",
    "                #for algo in xrange(8):\n",
    "                idx = algo+(rep-1)*num_algo   \n",
    "                counter = results[idx,1]\n",
    "                Ps = results[idx,2:]\n",
    "                R_axis = normalize(Ps[3:])\n",
    "                t , RM = get_params(Ps, res_f)\n",
    "                dt = true_t + t\n",
    "                dR = RM.dot(true_RM.T)\n",
    "                max_trans_R, E_Max = Max_displacement(dR, R_axis, dt)\n",
    "                Max_dis_10.append(E_Max)\n",
    "                Max_dis_R_10.append(max_trans_R)\n",
    "                RMS_ls_10.append(RMS(dR, dt, res_f))\n",
    "#                 if(RMS(dR, dt, res_f) > 1):\n",
    "#                     print ix, rot_ax, rang, rep\n",
    "#                 if(RMS(dR, dt, res_f) > E_Max):\n",
    "#                     print rot_ax, rang, rep, rot_angle\n",
    "#                     print RMS(dR, dt, res_f), E_Max\n",
    "                RMS_rotation_ls_10.append(RMS_Rotation(dR))\n",
    "                RMS_translation_ls_10.append(RMS_Translation(dt))\n",
    "                RMS_trans_R_10.append(RMS_Translation_R(dR))\n",
    "                counter_10.append(counter)\n",
    "                \n",
    "    return [true_params,\n",
    "            RMS_ls_6_4,RMS_ls_8,RMS_ls_10,\n",
    "            RMS_rotation_ls_6_4,RMS_rotation_ls_8,RMS_rotation_ls_10, \n",
    "            RMS_translation_ls_6_4,RMS_translation_ls_8,RMS_translation_ls_10,\n",
    "            Max_dis_6_4,Max_dis_8,Max_dis_10,\n",
    "            Max_dis_R_6_4,Max_dis_R_8,Max_dis_R_10,\n",
    "            RMS_trans_R_6_4, RMS_trans_R_8, RMS_trans_R_10,\n",
    "            counter_6_4, counter_8, counter_10]"
   ]
  },
  {
   "cell_type": "markdown",
   "metadata": {},
   "source": [
    "## Get all Bspline results for every subject"
   ]
  },
  {
   "cell_type": "code",
   "execution_count": 9,
   "metadata": {
    "collapsed": false
   },
   "outputs": [],
   "source": [
    "output_path = '/Users/zyzdiana/Desktop/C_output_oribi/'\n",
    "interps = ['linear','cubic','cubicBSpline']\n",
    "for interp in interps:\n",
    "    for ix, rot_ax in enumerate(keys):\n",
    "        for rang in ranges[:2]:\n",
    "            ref = rep_to_angle(0,rang)\n",
    "            for res in resolutions:\n",
    "                float_res = float('.'.join(res[:-2].split('_')))\n",
    "                width = res_to_rad(res)*2\n",
    "                if res == '6_4mm':\n",
    "                    output_file = '%s_%s_rot_%s_deg_%s_trans_%s.txt' % (res, rot_ax, rang, axes_dict[rot_ax], interp)\n",
    "                else:\n",
    "                    output_file = '%s_iso_%s_rot_%s_deg_%s_trans_%s.txt' % (res, rot_ax, rang, axes_dict[rot_ax], interp)\n",
    "                #print output_file"
   ]
  },
  {
   "cell_type": "code",
   "execution_count": 10,
   "metadata": {
    "collapsed": false
   },
   "outputs": [
    {
     "name": "stdout",
     "output_type": "stream",
     "text": [
      "algo 0\n",
      "linear Oct_13_navs June_8_2016_navs July_26_2016_Navs July_15_2016_Navs\n",
      "cubic Oct_13_navs June_8_2016_navs July_26_2016_Navs July_15_2016_Navs\n",
      "cubicBSpline Oct_13_navs June_8_2016_navs July_26_2016_Navs July_15_2016_Navs\n",
      "algo 1\n",
      "linear Oct_13_navs June_8_2016_navs July_26_2016_Navs July_15_2016_Navs\n",
      "cubic Oct_13_navs June_8_2016_navs July_26_2016_Navs July_15_2016_Navs\n",
      "cubicBSpline Oct_13_navs June_8_2016_navs July_26_2016_Navs July_15_2016_Navs\n",
      "algo 2\n",
      "linear Oct_13_navs June_8_2016_navs July_26_2016_Navs July_15_2016_Navs\n",
      "cubic Oct_13_navs June_8_2016_navs July_26_2016_Navs July_15_2016_Navs\n",
      "cubicBSpline Oct_13_navs June_8_2016_navs July_26_2016_Navs July_15_2016_Navs\n",
      "algo 3\n",
      "linear Oct_13_navs June_8_2016_navs July_26_2016_Navs July_15_2016_Navs\n",
      "cubic Oct_13_navs June_8_2016_navs July_26_2016_Navs July_15_2016_Navs\n",
      "cubicBSpline Oct_13_navs June_8_2016_navs July_26_2016_Navs July_15_2016_Navs\n",
      "algo 4\n",
      "linear Oct_13_navs June_8_2016_navs July_26_2016_Navs July_15_2016_Navs\n",
      "cubic Oct_13_navs June_8_2016_navs July_26_2016_Navs July_15_2016_Navs\n",
      "cubicBSpline Oct_13_navs June_8_2016_navs July_26_2016_Navs July_15_2016_Navs\n",
      "algo 5\n",
      "linear Oct_13_navs June_8_2016_navs July_26_2016_Navs July_15_2016_Navs\n",
      "cubic Oct_13_navs June_8_2016_navs July_26_2016_Navs July_15_2016_Navs\n",
      "cubicBSpline Oct_13_navs June_8_2016_navs July_26_2016_Navs July_15_2016_Navs\n"
     ]
    }
   ],
   "source": [
    "dates = ['Oct_13_navs', 'June_8_2016_navs', 'July_26_2016_Navs', 'July_15_2016_Navs']\n",
    "interps = ['linear','cubic','cubicBSpline']\n",
    "data_ls_all = []\n",
    "output_path = '/Users/zyzdiana/Desktop/C_output_oribi/'\n",
    "for algo in xrange(6):\n",
    "    print 'algo',algo\n",
    "    data_ls = []\n",
    "    for interp in interps:\n",
    "        print interp,\n",
    "        for date in dates:\n",
    "            print date,\n",
    "            path = os.path.join(output_path, date)\n",
    "            data_ls.append(compute_RMS(path, interp, algo, 6, range_start = 0, range_end = 2))\n",
    "        print\n",
    "    data_ls_all.append(data_ls)"
   ]
  },
  {
   "cell_type": "code",
   "execution_count": 11,
   "metadata": {
    "collapsed": true
   },
   "outputs": [],
   "source": [
    "pickle.dump(data_ls_all,open('data_ls_all.p','wb'))"
   ]
  },
  {
   "cell_type": "code",
   "execution_count": 10,
   "metadata": {
    "collapsed": true
   },
   "outputs": [],
   "source": [
    "data_ls_all = pickle.load(open('data_ls_all.p','rb'))"
   ]
  },
  {
   "cell_type": "code",
   "execution_count": 77,
   "metadata": {
    "collapsed": false
   },
   "outputs": [
    {
     "name": "stdout",
     "output_type": "stream",
     "text": [
      "algo 0\n",
      "linear June_8_2016_navs July_26_2016_Navs July_15_2016_Navs\n",
      "cubic June_8_2016_navs July_26_2016_Navs July_15_2016_Navs\n",
      "cubicBSpline June_8_2016_navs July_26_2016_Navs July_15_2016_Navs\n",
      "algo 1\n",
      "linear June_8_2016_navs July_26_2016_Navs July_15_2016_Navs\n",
      "cubic June_8_2016_navs July_26_2016_Navs July_15_2016_Navs\n",
      "cubicBSpline June_8_2016_navs July_26_2016_Navs July_15_2016_Navs\n",
      "algo 2\n",
      "linear June_8_2016_navs July_26_2016_Navs July_15_2016_Navs\n",
      "cubic June_8_2016_navs July_26_2016_Navs July_15_2016_Navs\n",
      "cubicBSpline June_8_2016_navs July_26_2016_Navs July_15_2016_Navs\n",
      "algo 3\n",
      "linear June_8_2016_navs July_26_2016_Navs July_15_2016_Navs\n",
      "cubic June_8_2016_navs July_26_2016_Navs July_15_2016_Navs\n",
      "cubicBSpline June_8_2016_navs July_26_2016_Navs July_15_2016_Navs\n",
      "algo 4\n",
      "linear June_8_2016_navs July_26_2016_Navs July_15_2016_Navs\n",
      "cubic June_8_2016_navs July_26_2016_Navs July_15_2016_Navs\n",
      "cubicBSpline June_8_2016_navs July_26_2016_Navs July_15_2016_Navs\n",
      "algo 5\n",
      "linear June_8_2016_navs July_26_2016_Navs July_15_2016_Navs\n",
      "cubic June_8_2016_navs July_26_2016_Navs July_15_2016_Navs\n",
      "cubicBSpline June_8_2016_navs July_26_2016_Navs July_15_2016_Navs\n"
     ]
    }
   ],
   "source": [
    "dates = ['June_8_2016_navs', 'July_26_2016_Navs', 'July_15_2016_Navs']\n",
    "interps = ['linear','cubic','cubicBSpline']\n",
    "large_rot_data_ls_all = []\n",
    "output_path = '/Users/zyzdiana/Desktop/C_output_oribi/'\n",
    "for algo in xrange(6):\n",
    "    print 'algo',algo\n",
    "    data_ls = []\n",
    "    for interp in interps:\n",
    "        print interp,\n",
    "        for date in dates:\n",
    "            print date,\n",
    "            path = os.path.join(output_path, date)\n",
    "            data_ls.append(compute_RMS(path, interp, algo, 6, range_start = 2, range_end = 4, keys = ['x']))\n",
    "        print\n",
    "    large_rot_data_ls_all.append(data_ls)"
   ]
  },
  {
   "cell_type": "code",
   "execution_count": 78,
   "metadata": {
    "collapsed": true
   },
   "outputs": [],
   "source": [
    "pickle.dump(large_rot_data_ls_all,open('large_rot_data_ls_all.p','wb'))"
   ]
  },
  {
   "cell_type": "code",
   "execution_count": 11,
   "metadata": {
    "collapsed": true
   },
   "outputs": [],
   "source": [
    "large_rot_data_ls_all = pickle.load(open('large_rot_data_ls_all.p','rb'))"
   ]
  },
  {
   "cell_type": "markdown",
   "metadata": {},
   "source": [
    "## Make Dataframe"
   ]
  },
  {
   "cell_type": "code",
   "execution_count": 12,
   "metadata": {
    "collapsed": true
   },
   "outputs": [],
   "source": [
    "import pandas as pd\n",
    "labels = ['10mm<br>Trilinear','10mm<br>Tricubic','10mm<br>Cubic<br>B-spline',\n",
    "          '8mm<br>Trilinear','8mm<br>Tricubic','8mm<br>Cubic<br>B-spline',\n",
    "          '6.4mm<br>Trilinear','6.4mm<br>Tricubic','6.4mm\\nCubic<br>B-spline']\n",
    "\n",
    "columns = ['Label','RMS','RMS_Rotation','RMS_Translation','Max_Dis','Max_Dis_R','RMS_trans_R','Iterations']"
   ]
  },
  {
   "cell_type": "code",
   "execution_count": 13,
   "metadata": {
    "collapsed": false
   },
   "outputs": [
    {
     "name": "stdout",
     "output_type": "stream",
     "text": [
      "11340\n",
      "1260\n",
      "3780\n",
      "630\n"
     ]
    }
   ],
   "source": [
    "num_subject = 3\n",
    "Labels_ls = []\n",
    "for l in labels:\n",
    "    for subj in xrange(1,num_subject+1):\n",
    "        for j in xrange(420):\n",
    "            Labels_ls.append(l+'<br>All 3 subjects')\n",
    "print len(Labels_ls)\n",
    "\n",
    "num_subject = 2\n",
    "Labels_ls_large_rot = []\n",
    "for l in labels:\n",
    "    for subj in xrange(1,num_subject+1):\n",
    "        for j in xrange(70):\n",
    "            Labels_ls_large_rot.append(l+'<br>All 2 subjects')\n",
    "print len(Labels_ls_large_rot)\n",
    "\n",
    "Pineapple_label = []\n",
    "for l in labels:\n",
    "    for j in xrange(420):\n",
    "        Pineapple_label.append(l+'<br>Pineapple')\n",
    "print len(Pineapple_label)\n",
    "\n",
    "Pineapple_label_large_rot = []\n",
    "for l in labels:\n",
    "    for j in xrange(70):\n",
    "        Pineapple_label_large_rot.append(l+'<br>Pineapple')\n",
    "print len(Pineapple_label_large_rot)"
   ]
  },
  {
   "cell_type": "code",
   "execution_count": 14,
   "metadata": {
    "collapsed": false
   },
   "outputs": [],
   "source": [
    "def get_subjects_df(data_ls, Labels_ls = Labels_ls, num_subject = 3):\n",
    "    subjects_df = pd.DataFrame(columns = columns)\n",
    "    subjects_df[columns[0]] = Labels_ls\n",
    "    for idx, col in enumerate(columns[1:]):\n",
    "        col_vals = []\n",
    "        for res in [3,2,1]:\n",
    "            for interp in xrange(3):\n",
    "                for subj in xrange(num_subject):\n",
    "                    col_vals += data_ls[interp*num_subject+subj][res+(idx*3)]\n",
    "        subjects_df[col] = col_vals\n",
    "    return subjects_df\n",
    "\n",
    "def get_pineapple_df(data_ls, Pineapple_label = Pineapple_label, pineapple_idx = 3, num_subject = 4):\n",
    "    pineapple_df = pd.DataFrame(columns = columns)\n",
    "    pineapple_df[columns[0]] = Pineapple_label\n",
    "    for idx, col in enumerate(columns[1:]):\n",
    "        col_vals = []\n",
    "        for res in [3,2,1]:\n",
    "            for interp in xrange(3):\n",
    "                col_vals += data_ls[interp*num_subject+pineapple_idx][res+(idx*3)]\n",
    "        pineapple_df[col] = col_vals\n",
    "    return pineapple_df"
   ]
  },
  {
   "cell_type": "code",
   "execution_count": 15,
   "metadata": {
    "collapsed": false
   },
   "outputs": [
    {
     "data": {
      "text/html": [
       "<div>\n",
       "<table border=\"1\" class=\"dataframe\">\n",
       "  <thead>\n",
       "    <tr style=\"text-align: right;\">\n",
       "      <th></th>\n",
       "      <th>Label</th>\n",
       "      <th>RMS</th>\n",
       "      <th>RMS_Rotation</th>\n",
       "      <th>RMS_Translation</th>\n",
       "      <th>Max_Dis</th>\n",
       "      <th>Max_Dis_R</th>\n",
       "      <th>RMS_trans_R</th>\n",
       "      <th>Iterations</th>\n",
       "    </tr>\n",
       "  </thead>\n",
       "  <tbody>\n",
       "    <tr>\n",
       "      <th>0</th>\n",
       "      <td>10mm&lt;br&gt;Trilinear&lt;br&gt;Pineapple</td>\n",
       "      <td>0.176684</td>\n",
       "      <td>0.106972</td>\n",
       "      <td>0.131432</td>\n",
       "      <td>0.314493</td>\n",
       "      <td>0.186701</td>\n",
       "      <td>0.118080</td>\n",
       "      <td>2</td>\n",
       "    </tr>\n",
       "    <tr>\n",
       "      <th>1</th>\n",
       "      <td>10mm&lt;br&gt;Trilinear&lt;br&gt;Pineapple</td>\n",
       "      <td>0.263906</td>\n",
       "      <td>0.226214</td>\n",
       "      <td>0.085404</td>\n",
       "      <td>0.472513</td>\n",
       "      <td>0.394818</td>\n",
       "      <td>0.249705</td>\n",
       "      <td>2</td>\n",
       "    </tr>\n",
       "    <tr>\n",
       "      <th>2</th>\n",
       "      <td>10mm&lt;br&gt;Trilinear&lt;br&gt;Pineapple</td>\n",
       "      <td>0.369944</td>\n",
       "      <td>0.333048</td>\n",
       "      <td>0.041297</td>\n",
       "      <td>0.606074</td>\n",
       "      <td>0.581277</td>\n",
       "      <td>0.367632</td>\n",
       "      <td>2</td>\n",
       "    </tr>\n",
       "    <tr>\n",
       "      <th>3</th>\n",
       "      <td>10mm&lt;br&gt;Trilinear&lt;br&gt;Pineapple</td>\n",
       "      <td>0.495513</td>\n",
       "      <td>0.446724</td>\n",
       "      <td>0.048722</td>\n",
       "      <td>0.811732</td>\n",
       "      <td>0.779679</td>\n",
       "      <td>0.493112</td>\n",
       "      <td>1</td>\n",
       "    </tr>\n",
       "    <tr>\n",
       "      <th>4</th>\n",
       "      <td>10mm&lt;br&gt;Trilinear&lt;br&gt;Pineapple</td>\n",
       "      <td>0.628021</td>\n",
       "      <td>0.565817</td>\n",
       "      <td>0.065744</td>\n",
       "      <td>1.024416</td>\n",
       "      <td>0.987533</td>\n",
       "      <td>0.624571</td>\n",
       "      <td>1</td>\n",
       "    </tr>\n",
       "  </tbody>\n",
       "</table>\n",
       "</div>"
      ],
      "text/plain": [
       "                            Label       RMS  RMS_Rotation  RMS_Translation  \\\n",
       "0  10mm<br>Trilinear<br>Pineapple  0.176684      0.106972         0.131432   \n",
       "1  10mm<br>Trilinear<br>Pineapple  0.263906      0.226214         0.085404   \n",
       "2  10mm<br>Trilinear<br>Pineapple  0.369944      0.333048         0.041297   \n",
       "3  10mm<br>Trilinear<br>Pineapple  0.495513      0.446724         0.048722   \n",
       "4  10mm<br>Trilinear<br>Pineapple  0.628021      0.565817         0.065744   \n",
       "\n",
       "    Max_Dis  Max_Dis_R  RMS_trans_R  Iterations  \n",
       "0  0.314493   0.186701     0.118080           2  \n",
       "1  0.472513   0.394818     0.249705           2  \n",
       "2  0.606074   0.581277     0.367632           2  \n",
       "3  0.811732   0.779679     0.493112           1  \n",
       "4  1.024416   0.987533     0.624571           1  "
      ]
     },
     "execution_count": 15,
     "metadata": {},
     "output_type": "execute_result"
    }
   ],
   "source": [
    "df = get_pineapple_df(data_ls_all[0])\n",
    "df.head()"
   ]
  },
  {
   "cell_type": "markdown",
   "metadata": {},
   "source": [
    "## Violin Plot"
   ]
  },
  {
   "cell_type": "code",
   "execution_count": 16,
   "metadata": {
    "collapsed": false
   },
   "outputs": [],
   "source": [
    "from plotly.offline import plot\n",
    "import plotly.graph_objs as go"
   ]
  },
  {
   "cell_type": "code",
   "execution_count": 17,
   "metadata": {
    "collapsed": false
   },
   "outputs": [
    {
     "name": "stdout",
     "output_type": "stream",
     "text": [
      "This is the format of your plot grid:\n",
      "[ (1,1) x1,y1 ]  [ (1,2) x2,y1 ]  [ (1,3) x3,y1 ]  [ (1,4) x4,y1 ]  [ (1,5) x5,y1 ]  [ (1,6) x6,y1 ]  [ (1,7) x7,y1 ]  [ (1,8) x8,y1 ]  [ (1,9) x9,y1 ]\n",
      "\n",
      "This is the format of your plot grid:\n",
      "[ (1,1) x1,y1 ]  [ (1,2) x2,y1 ]  [ (1,3) x3,y1 ]  [ (1,4) x4,y1 ]  [ (1,5) x5,y1 ]  [ (1,6) x6,y1 ]  [ (1,7) x7,y1 ]  [ (1,8) x8,y1 ]  [ (1,9) x9,y1 ]\n",
      "\n",
      "This is the format of your plot grid:\n",
      "[ (1,1) x1,y1 ]  [ (1,2) x2,y1 ]  [ (1,3) x3,y1 ]  [ (1,4) x4,y1 ]  [ (1,5) x5,y1 ]  [ (1,6) x6,y1 ]  [ (1,7) x7,y1 ]  [ (1,8) x8,y1 ]  [ (1,9) x9,y1 ]\n",
      "\n",
      "This is the format of your plot grid:\n",
      "[ (1,1) x1,y1 ]  [ (1,2) x2,y1 ]  [ (1,3) x3,y1 ]  [ (1,4) x4,y1 ]  [ (1,5) x5,y1 ]  [ (1,6) x6,y1 ]  [ (1,7) x7,y1 ]  [ (1,8) x8,y1 ]  [ (1,9) x9,y1 ]\n",
      "\n",
      "This is the format of your plot grid:\n",
      "[ (1,1) x1,y1 ]  [ (1,2) x2,y1 ]  [ (1,3) x3,y1 ]  [ (1,4) x4,y1 ]  [ (1,5) x5,y1 ]  [ (1,6) x6,y1 ]  [ (1,7) x7,y1 ]  [ (1,8) x8,y1 ]  [ (1,9) x9,y1 ]\n",
      "\n",
      "This is the format of your plot grid:\n",
      "[ (1,1) x1,y1 ]  [ (1,2) x2,y1 ]  [ (1,3) x3,y1 ]  [ (1,4) x4,y1 ]  [ (1,5) x5,y1 ]  [ (1,6) x6,y1 ]  [ (1,7) x7,y1 ]  [ (1,8) x8,y1 ]  [ (1,9) x9,y1 ]\n",
      "\n"
     ]
    }
   ],
   "source": [
    "for algo in xrange(6):\n",
    "    fig = FF.create_violin(get_subjects_df(data_ls_all[algo]), data_header='RMS', group_header='Label', \n",
    "                           height=800, width=2800, title='RMS Error (Algo %s)' % (algo+1))\n",
    "    py.image.save_as(fig, '/Users/zyzdiana/Desktop/htmls/RMS_algo%s.svg' % (algo+1))\n",
    "    #plot(fig, filename='/Users/zyzdiana/Desktop/htmls/RMS_algo%s.svg' % (algo+1), auto_open = False)"
   ]
  },
  {
   "cell_type": "code",
   "execution_count": 19,
   "metadata": {
    "collapsed": false
   },
   "outputs": [
    {
     "name": "stdout",
     "output_type": "stream",
     "text": [
      "This is the format of your plot grid:\n",
      "[ (1,1) x1,y1 ]  [ (1,2) x2,y1 ]  [ (1,3) x3,y1 ]  [ (1,4) x4,y1 ]  [ (1,5) x5,y1 ]  [ (1,6) x6,y1 ]  [ (1,7) x7,y1 ]  [ (1,8) x8,y1 ]  [ (1,9) x9,y1 ]\n",
      "\n",
      "This is the format of your plot grid:\n",
      "[ (1,1) x1,y1 ]  [ (1,2) x2,y1 ]  [ (1,3) x3,y1 ]  [ (1,4) x4,y1 ]  [ (1,5) x5,y1 ]  [ (1,6) x6,y1 ]  [ (1,7) x7,y1 ]  [ (1,8) x8,y1 ]  [ (1,9) x9,y1 ]\n",
      "\n",
      "This is the format of your plot grid:\n",
      "[ (1,1) x1,y1 ]  [ (1,2) x2,y1 ]  [ (1,3) x3,y1 ]  [ (1,4) x4,y1 ]  [ (1,5) x5,y1 ]  [ (1,6) x6,y1 ]  [ (1,7) x7,y1 ]  [ (1,8) x8,y1 ]  [ (1,9) x9,y1 ]\n",
      "\n",
      "This is the format of your plot grid:\n",
      "[ (1,1) x1,y1 ]  [ (1,2) x2,y1 ]  [ (1,3) x3,y1 ]  [ (1,4) x4,y1 ]  [ (1,5) x5,y1 ]  [ (1,6) x6,y1 ]  [ (1,7) x7,y1 ]  [ (1,8) x8,y1 ]  [ (1,9) x9,y1 ]\n",
      "\n",
      "This is the format of your plot grid:\n",
      "[ (1,1) x1,y1 ]  [ (1,2) x2,y1 ]  [ (1,3) x3,y1 ]  [ (1,4) x4,y1 ]  [ (1,5) x5,y1 ]  [ (1,6) x6,y1 ]  [ (1,7) x7,y1 ]  [ (1,8) x8,y1 ]  [ (1,9) x9,y1 ]\n",
      "\n",
      "This is the format of your plot grid:\n",
      "[ (1,1) x1,y1 ]  [ (1,2) x2,y1 ]  [ (1,3) x3,y1 ]  [ (1,4) x4,y1 ]  [ (1,5) x5,y1 ]  [ (1,6) x6,y1 ]  [ (1,7) x7,y1 ]  [ (1,8) x8,y1 ]  [ (1,9) x9,y1 ]\n",
      "\n"
     ]
    }
   ],
   "source": [
    "for algo in xrange(6):\n",
    "    fig = FF.create_violin(get_pineapple_df(data_ls_all[algo]), data_header='RMS', group_header='Label', \n",
    "                           height=800, width=2800, title='RMS Error (Algo %s)' % (algo+1))\n",
    "    py.image.save_as(fig, '/Users/zyzdiana/Desktop/htmls/Pinapple_RMS_algo%s.svg' % (algo+1))\n",
    "    #plot(fig, filename='/Users/zyzdiana/Desktop/htmls/Pinapple_RMS_algo%s.html' % (algo+1), auto_open = False)"
   ]
  },
  {
   "cell_type": "code",
   "execution_count": 20,
   "metadata": {
    "collapsed": false
   },
   "outputs": [
    {
     "name": "stdout",
     "output_type": "stream",
     "text": [
      "This is the format of your plot grid:\n",
      "[ (1,1) x1,y1 ]  [ (1,2) x2,y1 ]  [ (1,3) x3,y1 ]  [ (1,4) x4,y1 ]  [ (1,5) x5,y1 ]  [ (1,6) x6,y1 ]  [ (1,7) x7,y1 ]  [ (1,8) x8,y1 ]  [ (1,9) x9,y1 ]\n",
      "\n",
      "This is the format of your plot grid:\n",
      "[ (1,1) x1,y1 ]  [ (1,2) x2,y1 ]  [ (1,3) x3,y1 ]  [ (1,4) x4,y1 ]  [ (1,5) x5,y1 ]  [ (1,6) x6,y1 ]  [ (1,7) x7,y1 ]  [ (1,8) x8,y1 ]  [ (1,9) x9,y1 ]\n",
      "\n",
      "This is the format of your plot grid:\n",
      "[ (1,1) x1,y1 ]  [ (1,2) x2,y1 ]  [ (1,3) x3,y1 ]  [ (1,4) x4,y1 ]  [ (1,5) x5,y1 ]  [ (1,6) x6,y1 ]  [ (1,7) x7,y1 ]  [ (1,8) x8,y1 ]  [ (1,9) x9,y1 ]\n",
      "\n",
      "This is the format of your plot grid:\n",
      "[ (1,1) x1,y1 ]  [ (1,2) x2,y1 ]  [ (1,3) x3,y1 ]  [ (1,4) x4,y1 ]  [ (1,5) x5,y1 ]  [ (1,6) x6,y1 ]  [ (1,7) x7,y1 ]  [ (1,8) x8,y1 ]  [ (1,9) x9,y1 ]\n",
      "\n",
      "This is the format of your plot grid:\n",
      "[ (1,1) x1,y1 ]  [ (1,2) x2,y1 ]  [ (1,3) x3,y1 ]  [ (1,4) x4,y1 ]  [ (1,5) x5,y1 ]  [ (1,6) x6,y1 ]  [ (1,7) x7,y1 ]  [ (1,8) x8,y1 ]  [ (1,9) x9,y1 ]\n",
      "\n",
      "This is the format of your plot grid:\n",
      "[ (1,1) x1,y1 ]  [ (1,2) x2,y1 ]  [ (1,3) x3,y1 ]  [ (1,4) x4,y1 ]  [ (1,5) x5,y1 ]  [ (1,6) x6,y1 ]  [ (1,7) x7,y1 ]  [ (1,8) x8,y1 ]  [ (1,9) x9,y1 ]\n",
      "\n"
     ]
    }
   ],
   "source": [
    "for algo in xrange(6):\n",
    "    fig = FF.create_violin(get_subjects_df(data_ls_all[algo]), data_header='Max_Dis', group_header='Label', \n",
    "                           height=800, width=2800, title='Max Displacement (Algo %s)' % (algo+1))\n",
    "    py.image.save_as(fig, '/Users/zyzdiana/Desktop/htmls/Max_algo%s.svg' % (algo+1))\n",
    "    #plot(fig, filename='/Users/zyzdiana/Desktop/htmls/Max_algo%s.html' % (algo+1), auto_open = False)"
   ]
  },
  {
   "cell_type": "code",
   "execution_count": 21,
   "metadata": {
    "collapsed": false
   },
   "outputs": [
    {
     "name": "stdout",
     "output_type": "stream",
     "text": [
      "This is the format of your plot grid:\n",
      "[ (1,1) x1,y1 ]  [ (1,2) x2,y1 ]  [ (1,3) x3,y1 ]  [ (1,4) x4,y1 ]  [ (1,5) x5,y1 ]  [ (1,6) x6,y1 ]  [ (1,7) x7,y1 ]  [ (1,8) x8,y1 ]  [ (1,9) x9,y1 ]\n",
      "\n",
      "This is the format of your plot grid:\n",
      "[ (1,1) x1,y1 ]  [ (1,2) x2,y1 ]  [ (1,3) x3,y1 ]  [ (1,4) x4,y1 ]  [ (1,5) x5,y1 ]  [ (1,6) x6,y1 ]  [ (1,7) x7,y1 ]  [ (1,8) x8,y1 ]  [ (1,9) x9,y1 ]\n",
      "\n",
      "This is the format of your plot grid:\n",
      "[ (1,1) x1,y1 ]  [ (1,2) x2,y1 ]  [ (1,3) x3,y1 ]  [ (1,4) x4,y1 ]  [ (1,5) x5,y1 ]  [ (1,6) x6,y1 ]  [ (1,7) x7,y1 ]  [ (1,8) x8,y1 ]  [ (1,9) x9,y1 ]\n",
      "\n",
      "This is the format of your plot grid:\n",
      "[ (1,1) x1,y1 ]  [ (1,2) x2,y1 ]  [ (1,3) x3,y1 ]  [ (1,4) x4,y1 ]  [ (1,5) x5,y1 ]  [ (1,6) x6,y1 ]  [ (1,7) x7,y1 ]  [ (1,8) x8,y1 ]  [ (1,9) x9,y1 ]\n",
      "\n",
      "This is the format of your plot grid:\n",
      "[ (1,1) x1,y1 ]  [ (1,2) x2,y1 ]  [ (1,3) x3,y1 ]  [ (1,4) x4,y1 ]  [ (1,5) x5,y1 ]  [ (1,6) x6,y1 ]  [ (1,7) x7,y1 ]  [ (1,8) x8,y1 ]  [ (1,9) x9,y1 ]\n",
      "\n",
      "This is the format of your plot grid:\n",
      "[ (1,1) x1,y1 ]  [ (1,2) x2,y1 ]  [ (1,3) x3,y1 ]  [ (1,4) x4,y1 ]  [ (1,5) x5,y1 ]  [ (1,6) x6,y1 ]  [ (1,7) x7,y1 ]  [ (1,8) x8,y1 ]  [ (1,9) x9,y1 ]\n",
      "\n"
     ]
    }
   ],
   "source": [
    "for algo in xrange(6):\n",
    "    fig = FF.create_violin(get_pineapple_df(data_ls_all[algo]), data_header='Max_Dis', group_header='Label', \n",
    "                           height=800, width=2800, title='Max Displacement (Algo %s)' % (algo+1))\n",
    "    py.image.save_as(fig, '/Users/zyzdiana/Desktop/htmls/Pineapple_Max_algo%s.svg' % (algo+1))\n",
    "    #plot(fig, filename='/Users/zyzdiana/Desktop/htmls/Pineapple_Max_algo%s.html' % (algo+1), auto_open = False)"
   ]
  },
  {
   "cell_type": "code",
   "execution_count": 23,
   "metadata": {
    "collapsed": false
   },
   "outputs": [
    {
     "name": "stdout",
     "output_type": "stream",
     "text": [
      "This is the format of your plot grid:\n",
      "[ (1,1) x1,y1 ]  [ (1,2) x2,y1 ]  [ (1,3) x3,y1 ]  [ (1,4) x4,y1 ]  [ (1,5) x5,y1 ]  [ (1,6) x6,y1 ]  [ (1,7) x7,y1 ]  [ (1,8) x8,y1 ]  [ (1,9) x9,y1 ]\n",
      "\n",
      "This is the format of your plot grid:\n",
      "[ (1,1) x1,y1 ]  [ (1,2) x2,y1 ]  [ (1,3) x3,y1 ]  [ (1,4) x4,y1 ]  [ (1,5) x5,y1 ]  [ (1,6) x6,y1 ]  [ (1,7) x7,y1 ]  [ (1,8) x8,y1 ]  [ (1,9) x9,y1 ]\n",
      "\n",
      "This is the format of your plot grid:\n",
      "[ (1,1) x1,y1 ]  [ (1,2) x2,y1 ]  [ (1,3) x3,y1 ]  [ (1,4) x4,y1 ]  [ (1,5) x5,y1 ]  [ (1,6) x6,y1 ]  [ (1,7) x7,y1 ]  [ (1,8) x8,y1 ]  [ (1,9) x9,y1 ]\n",
      "\n",
      "This is the format of your plot grid:\n",
      "[ (1,1) x1,y1 ]  [ (1,2) x2,y1 ]  [ (1,3) x3,y1 ]  [ (1,4) x4,y1 ]  [ (1,5) x5,y1 ]  [ (1,6) x6,y1 ]  [ (1,7) x7,y1 ]  [ (1,8) x8,y1 ]  [ (1,9) x9,y1 ]\n",
      "\n",
      "This is the format of your plot grid:\n",
      "[ (1,1) x1,y1 ]  [ (1,2) x2,y1 ]  [ (1,3) x3,y1 ]  [ (1,4) x4,y1 ]  [ (1,5) x5,y1 ]  [ (1,6) x6,y1 ]  [ (1,7) x7,y1 ]  [ (1,8) x8,y1 ]  [ (1,9) x9,y1 ]\n",
      "\n",
      "This is the format of your plot grid:\n",
      "[ (1,1) x1,y1 ]  [ (1,2) x2,y1 ]  [ (1,3) x3,y1 ]  [ (1,4) x4,y1 ]  [ (1,5) x5,y1 ]  [ (1,6) x6,y1 ]  [ (1,7) x7,y1 ]  [ (1,8) x8,y1 ]  [ (1,9) x9,y1 ]\n",
      "\n"
     ]
    }
   ],
   "source": [
    "for algo in xrange(6):\n",
    "    fig = FF.create_violin(get_subjects_df(data_ls_all[algo]), data_header='Iterations', group_header='Label', \n",
    "                           height=800, width=2800, title='Iterations (Algo %s)' % (algo+1))\n",
    "    py.image.save_as(fig, '/Users/zyzdiana/Desktop/htmls/Iterations_algo%s.svg' % (algo+1))\n",
    "    #plot(fig, filename='/Users/zyzdiana/Desktop/htmls/Iterations_algo%s.html' % (algo+1), auto_open = False)"
   ]
  },
  {
   "cell_type": "code",
   "execution_count": null,
   "metadata": {
    "collapsed": false
   },
   "outputs": [],
   "source": [
    "for algo in xrange(6):\n",
    "    fig = FF.create_violin(get_pineapple_df(data_ls_all[algo]), data_header='Iterations', group_header='Label', \n",
    "                           height=800, width=2800, title='Iterations (Algo %s)' % (algo+1))\n",
    "    py.image.save_as(fig, '/Users/zyzdiana/Desktop/htmls/Pinapple_Iterations_algo%s.svg' % (algo+1))\n",
    "    #plot(fig, filename='/Users/zyzdiana/Desktop/htmls/Pinapple_Iterations_algo%s.html' % (algo+1), auto_open = False)"
   ]
  },
  {
   "cell_type": "markdown",
   "metadata": {},
   "source": [
    "## Large Rotations"
   ]
  },
  {
   "cell_type": "code",
   "execution_count": null,
   "metadata": {
    "collapsed": false
   },
   "outputs": [],
   "source": [
    "for algo in xrange(6):\n",
    "    fig = FF.create_violin(get_subjects_df(larget_rot_data_ls_all[algo], Labels_ls_large_rot, 2), data_header='RMS', \n",
    "                           group_header='Label', height=800, width=2800, title='RMS Error (Algo %s)' % (algo+1))\n",
    "    py.image.save_as(fig, '/Users/zyzdiana/Desktop/htmls/RMS_algo%s_large_rot.svg' % (algo+1))\n",
    "    #plot(fig, filename='/Users/zyzdiana/Desktop/htmls/RMS_algo%s_large_rot.html' % (algo+1), auto_open = False)"
   ]
  },
  {
   "cell_type": "code",
   "execution_count": null,
   "metadata": {
    "collapsed": false
   },
   "outputs": [],
   "source": [
    "for algo in xrange(6):\n",
    "    fig = FF.create_violin(get_pineapple_df(large_rot_data_ls_all[0], Pineapple_label_large_rot, 2, 3), data_header='RMS', \n",
    "                           group_header='Label', height=800, width=2800, title='RMS Error (Algo %s)' % (algo+1))\n",
    "    py.image.save_as(fig, '/Users/zyzdiana/Desktop/htmls/Pineapple_RMS_algo%s_large_rot.svg' % (algo+1))\n",
    "    #plot(fig, filename='/Users/zyzdiana/Desktop/htmls/Pineapple_RMS_algo%s_large_rot.html' % (algo+1), auto_open = False)"
   ]
  },
  {
   "cell_type": "code",
   "execution_count": null,
   "metadata": {
    "collapsed": false
   },
   "outputs": [],
   "source": [
    "for algo in xrange(6):\n",
    "    fig = FF.create_violin(get_subjects_df(larget_rot_data_ls_all[algo], Labels_ls_large_rot, 2), data_header='Max_Dis', \n",
    "                           group_header='Label', height=800, width=2800, title='Max Displacement Error (Algo %s)' % (algo+1))\n",
    "    py.image.save_as(fig, '/Users/zyzdiana/Desktop/htmls/Max_algo%s_large_rot.svg' % (algo+1))\n",
    "    #plot(fig, filename='/Users/zyzdiana/Desktop/htmls/Max_algo%s_large_rot.html' % (algo+1), auto_open = False)"
   ]
  },
  {
   "cell_type": "code",
   "execution_count": null,
   "metadata": {
    "collapsed": false
   },
   "outputs": [],
   "source": [
    "for algo in xrange(6):\n",
    "    fig = FF.create_violin(get_pineapple_df(large_rot_data_ls_all[0], Pineapple_label_large_rot, 2, 3), data_header='Max_Dis', \n",
    "                           group_header='Label', height=800, width=2800, title='Max Displacement Error (Algo %s)' % (algo+1))\n",
    "    py.image.save_as(fig, '/Users/zyzdiana/Desktop/htmls/Pineapple_Max_algo%s_large_rot.svg' % (algo+1))\n",
    "    #plot(fig, filename='/Users/zyzdiana/Desktop/htmls/Pineapple_Max_algo%s_large_rot.html' % (algo+1), auto_open = False)"
   ]
  },
  {
   "cell_type": "code",
   "execution_count": null,
   "metadata": {
    "collapsed": false
   },
   "outputs": [],
   "source": [
    "for algo in xrange(6):\n",
    "    fig = FF.create_violin(get_subjects_df(larget_rot_data_ls_all[algo], Labels_ls_large_rot, 2), data_header='Iterations', \n",
    "                           group_header='Label', height=800, width=2800, title='Iterations (Algo %s)' % (algo+1))\n",
    "    py.image.save_as(fig, '/Users/zyzdiana/Desktop/htmls/Iterations_algo%s_large_rot.svg' % (algo+1))\n",
    "    #plot(fig, filename='/Users/zyzdiana/Desktop/htmls/Iterations_algo%s_large_rot.html' % (algo+1), auto_open = False)"
   ]
  },
  {
   "cell_type": "code",
   "execution_count": null,
   "metadata": {
    "collapsed": false
   },
   "outputs": [],
   "source": [
    "for algo in xrange(6):\n",
    "    fig = FF.create_violin(get_pineapple_df(large_rot_data_ls_all[0], Pineapple_label_large_rot, 2, 3), data_header='Iterations', \n",
    "                           group_header='Label', height=800, width=2800, title='Iterations (Algo %s)' % (algo+1))\n",
    "    py.image.save_as(fig, '/Users/zyzdiana/Desktop/htmls/Pineapple_Iterations_algo%s_large_rot.svg' % (algo+1))\n",
    "    #plot(fig, filename='/Users/zyzdiana/Desktop/htmls/Pineapple_Iterations_algo%s_large_rot.html' % (algo+1), auto_open = False)"
   ]
  },
  {
   "cell_type": "code",
   "execution_count": null,
   "metadata": {
    "collapsed": true
   },
   "outputs": [],
   "source": []
  },
  {
   "cell_type": "markdown",
   "metadata": {},
   "source": [
    "### Plot in Notebook"
   ]
  },
  {
   "cell_type": "code",
   "execution_count": null,
   "metadata": {
    "collapsed": false
   },
   "outputs": [],
   "source": [
    "fig = FF.create_violin(get_subjects_df(data_ls_all[0]), data_header='RMS', group_header='Label', \n",
    "                       height=800, width=2800, title='RMS Error (Algo 1)')\n",
    "print py.iplot(fig)"
   ]
  },
  {
   "cell_type": "code",
   "execution_count": null,
   "metadata": {
    "collapsed": false
   },
   "outputs": [],
   "source": [
    "fig = FF.create_violin(get_subjects_df(data_ls_all[1]), data_header='RMS', group_header='Label', \n",
    "                       height=800, width=2800, title='RMS Error (Algo 2)')\n",
    "py.iplot(fig)"
   ]
  },
  {
   "cell_type": "code",
   "execution_count": null,
   "metadata": {
    "collapsed": false
   },
   "outputs": [],
   "source": [
    "fig = FF.create_violin(get_subjects_df(data_ls_all[2]), data_header='RMS', group_header='Label', \n",
    "                       height=800, width=2800, title='RMS Error (Algo 3)')\n",
    "py.iplot(fig)"
   ]
  },
  {
   "cell_type": "code",
   "execution_count": null,
   "metadata": {
    "collapsed": false
   },
   "outputs": [],
   "source": [
    "fig = FF.create_violin(get_subjects_df(data_ls_all[3]), data_header='RMS', group_header='Label', \n",
    "                       height=800, width=2800, title='RMS Error (Algo 4)')\n",
    "py.iplot(fig)"
   ]
  },
  {
   "cell_type": "code",
   "execution_count": null,
   "metadata": {
    "collapsed": false
   },
   "outputs": [],
   "source": [
    "fig = FF.create_violin(get_subjects_df(data_ls_all[4]), data_header='RMS', group_header='Label', \n",
    "                       height=800, width=2800, title='RMS Error (Algo 5)')\n",
    "py.iplot(fig)"
   ]
  },
  {
   "cell_type": "code",
   "execution_count": null,
   "metadata": {
    "collapsed": false
   },
   "outputs": [],
   "source": [
    "fig = FF.create_violin(get_subjects_df(data_ls_all[5]), data_header='RMS', group_header='Label', \n",
    "                       height=800, width=2800, title='RMS Error (Algo 6)')\n",
    "py.iplot(fig)"
   ]
  },
  {
   "cell_type": "markdown",
   "metadata": {},
   "source": [
    "# Scatter Plots"
   ]
  },
  {
   "cell_type": "code",
   "execution_count": 85,
   "metadata": {
    "collapsed": true
   },
   "outputs": [],
   "source": [
    "c= ['hsl('+str(h)+',50%'+',50%)' for h in np.linspace(0, 360, 6)]\n",
    "colors = []\n",
    "for color in c:\n",
    "    colors += [color]*70\n",
    "    \n",
    "xx = np.ones(420)\n",
    "\n",
    "rot_axes = ['x','y','z','xy','yz','xz']\n",
    "ax_labels = []\n",
    "for ax in rot_axes:\n",
    "    ax_labels += [ax]*70\n",
    "\n",
    "labels = ['10mm\\nTrilinear','10mm\\nTricubic','10mm\\nCubic\\nB-spline',\n",
    "          '8mm\\nTrilinear','8mm\\nTricubic','8mm\\nCubic\\nB-spline',\n",
    "          '6.4mm\\nTrilinear','6.4mm\\nTricubic','6.4mm\\nCubic\\nB-spline']\n",
    "\n",
    "def plotly_scatter(data_ls, idx_ls, title, ylabel):\n",
    "    l = []\n",
    "    index = 1\n",
    "\n",
    "    for idx in idx_ls:\n",
    "        for ii, ls in enumerate(data_ls):\n",
    "            subj_idx = (ii+1) % 4\n",
    "            trace0= go.Scatter(\n",
    "                x= ((xx * index) - 0.3) + (0.2*subj_idx),\n",
    "                y= ls[idx],\n",
    "                mode= 'markers',\n",
    "                marker= dict(size= 14,\n",
    "                            line= dict(width=1),\n",
    "                            color= colors,#c[index-1],\n",
    "                            opacity= 0.3\n",
    "                           ),\n",
    "                name= 'subject %s' % subj_idx,\n",
    "                text= ax_labels) # The hover text goes here... \n",
    "            l.append(trace0);\n",
    "            if(subj_idx) == 0:\n",
    "                index += 1\n",
    "\n",
    "    layout= go.Layout(\n",
    "        title= title,\n",
    "        hovermode= 'closest',\n",
    "        xaxis= dict(\n",
    "            title= '',\n",
    "            ticklen= 5,\n",
    "            zeroline= False,\n",
    "            gridwidth= 2,\n",
    "            ticktext = labels,\n",
    "            tickvals = [1,2,3,4,5,6,7,8,9]\n",
    "        ),\n",
    "        yaxis=dict(\n",
    "            title= ylabel,\n",
    "            ticklen= 5,\n",
    "            gridwidth= 2,\n",
    "        ),\n",
    "        showlegend= False\n",
    "    )\n",
    "    fig= go.Figure(data=l, layout=layout)\n",
    "    return fig"
   ]
  },
  {
   "cell_type": "code",
   "execution_count": null,
   "metadata": {
    "collapsed": false
   },
   "outputs": [],
   "source": [
    "fig = plotly_scatter(data_ls_all[2],[3,2,1], 'RMS error', 'RMS')\n",
    "py.iplot(fig)"
   ]
  },
  {
   "cell_type": "code",
   "execution_count": null,
   "metadata": {
    "collapsed": true
   },
   "outputs": [],
   "source": []
  },
  {
   "cell_type": "code",
   "execution_count": null,
   "metadata": {
    "collapsed": true
   },
   "outputs": [],
   "source": []
  }
 ],
 "metadata": {
  "kernelspec": {
   "display_name": "Python 2",
   "language": "python",
   "name": "python2"
  },
  "language_info": {
   "codemirror_mode": {
    "name": "ipython",
    "version": 2
   },
   "file_extension": ".py",
   "mimetype": "text/x-python",
   "name": "python",
   "nbconvert_exporter": "python",
   "pygments_lexer": "ipython2",
   "version": "2.7.12"
  }
 },
 "nbformat": 4,
 "nbformat_minor": 0
}
