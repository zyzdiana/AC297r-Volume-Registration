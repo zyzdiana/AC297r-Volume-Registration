{
 "cells": [
  {
   "cell_type": "code",
   "execution_count": 1,
   "metadata": {
    "collapsed": false
   },
   "outputs": [],
   "source": [
    "%load_ext autoreload\n",
    "%autoreload 2\n",
    "%reload_ext autoreload"
   ]
  },
  {
   "cell_type": "code",
   "execution_count": 2,
   "metadata": {
    "collapsed": false
   },
   "outputs": [],
   "source": [
    "%matplotlib inline\n",
    "import matplotlib.pyplot as plt\n",
    "import cPickle as pickle\n",
    "import multiprocessing\n",
    "import scipy.special\n",
    "import numpy as np\n",
    "import numpy.fft as fft\n",
    "import time\n",
    "import os\n",
    "import sys\n",
    "sys.path.insert(1,'/Users/zyzdiana/GitHub/AC297r-Volume-Registration/code')"
   ]
  },
  {
   "cell_type": "code",
   "execution_count": 3,
   "metadata": {
    "collapsed": false
   },
   "outputs": [],
   "source": [
    "from conversion import rotation_matrix_fromq,rotation_matrix_from_params,rotation_matrix_to_q,angles_from_q\n",
    "from utils import to_radian,res_to_rad,ax_to_w,rep_to_angle"
   ]
  },
  {
   "cell_type": "code",
   "execution_count": 19,
   "metadata": {
    "collapsed": false
   },
   "outputs": [
    {
     "name": "stdout",
     "output_type": "stream",
     "text": [
      "{'xz': 'xy', 'y': 'z', 'yz': 'xy', 'xy': 'xy', 'x': 'z', 'z': 'z'}\n",
      "{'xy': 3, 'xz': 0, 'yz': 2, 'y': 1, 'x': 4, 'z': 5}\n"
     ]
    }
   ],
   "source": [
    "# Get All Axes of Rotations\n",
    "path = '/Users/zyzdiana/Dropbox/THESIS/July_26_2016_navs/'\n",
    "resolutions = ['6_4mm', '8mm', '10mm']\n",
    "ranges = ['0_5_to_2_5','3_0_to_5_0','2_5_to_12_5','15_to_25']\n",
    "files = os.listdir(path)\n",
    "axes_dict = {}\n",
    "for f in files[1:]:\n",
    "    rot_ax = f.split('_')[2]\n",
    "    trans_ax = f.split('_')[10]\n",
    "    if not axes_dict.has_key(rot_ax):\n",
    "        axes_dict[rot_ax] = trans_ax\n",
    "print axes_dict\n",
    "keys = axes_dict.keys()\n",
    "\n",
    "rot_axes = ['xz', 'y', 'yz', 'xy', 'x', 'z']\n",
    "ax_to_idx = {}\n",
    "for rot_ax in rot_axes:\n",
    "    ax_to_idx[rot_ax] = rot_axes.index(rot_ax)\n",
    "print ax_to_idx"
   ]
  },
  {
   "cell_type": "code",
   "execution_count": 5,
   "metadata": {
    "collapsed": true
   },
   "outputs": [],
   "source": [
    "def Max_displacement(dRM, R_axis, dt):\n",
    "    rad = 100\n",
    "    trans_R = rad*np.sqrt(3-np.trace(dRM))\n",
    "    E_max = np.sqrt(trans_R**2 + 2*trans_R*np.linalg.norm(dt-(dt.T.dot(R_axis))*R_axis) + (dt.T).dot(dt))\n",
    "    return trans_R, E_max"
   ]
  },
  {
   "cell_type": "code",
   "execution_count": 6,
   "metadata": {
    "collapsed": true
   },
   "outputs": [],
   "source": [
    "def RMS_Rotation(dRM):\n",
    "    return np.arccos((np.trace(dRM)-1)/2.)*180/np.pi\n",
    "\n",
    "def RMS_Translation(dt):\n",
    "    t = dt\n",
    "    return np.sqrt((t.T).dot(t))\n",
    "def RMS_Translation_R(dRM):\n",
    "    rad = 100\n",
    "    A = dRM - np.eye(3)\n",
    "    return np.sqrt(0.2*rad**2*np.trace((A.T).dot(A)))\n",
    "\n",
    "def RMS(dRM, dt, res_f):\n",
    "    rad = 100\n",
    "    A = dRM - np.eye(3)\n",
    "    return np.sqrt(0.2*rad**2*np.trace((A.T).dot(A))+ (dt.T).dot(dt))\n",
    "    \n",
    "from conversion import rotation_matrix_fromq, rotation_matrix_from_params\n",
    "def get_true_params(rot_angle,rot_ax):\n",
    "    wy,wx,wz = ax_to_w(rot_ax)\n",
    "    wy_t,wx_t,wz_t = ax_to_w(axes_dict[rot_ax])\n",
    "    true_RM = rotation_matrix_fromq(rot_angle[0],wx,wy,wz)\n",
    "    trans_y, trans_x, trans_z = wy_t*rot_angle[1],wx_t*rot_angle[1], wz_t*rot_angle[1]\n",
    "    return [trans_x, trans_y, trans_z], true_RM\n",
    "\n",
    "def get_params(params, res):\n",
    "    RM = rotation_matrix_from_params(-params[3:])\n",
    "    return  params[:3]*res, RM"
   ]
  },
  {
   "cell_type": "code",
   "execution_count": 26,
   "metadata": {
    "collapsed": true
   },
   "outputs": [],
   "source": [
    "keys = ['xz', 'y', 'yz', 'xy', 'x', 'z']\n",
    "\n",
    "def compute_RMS_from_C_output(output_path, output_filename):\n",
    "    results = np.loadtxt(os.path.join(output_path,output_filename))\n",
    "    splits = output_filename.split('_')\n",
    "    res = splits[0][:-2]\n",
    "    res_f = float('.'.join(res.split('_')))\n",
    "    interp = splits[1]\n",
    "    rot_ax = splits[2]\n",
    "    trans_ax = splits[10]\n",
    "    rang = '_'.join(splits[4:9])\n",
    "    \n",
    "    true_params = []\n",
    "    Max_dis = []\n",
    "    Max_dis_R = []\n",
    "    RMS_ls = []\n",
    "    RMS_rotation_ls = []\n",
    "    RMS_translation_ls = []\n",
    "    RMS_trans_R = []\n",
    "    counter_ls = []    \n",
    "    \n",
    "    ref = rep_to_angle(0,rang)\n",
    "    \n",
    "    idx = 0\n",
    "    for rep in xrange(1,36):\n",
    "        rot_angle = rep_to_angle(rep,rang)\n",
    "        true_params.append(rot_angle)\n",
    "        true_t, true_RM = get_true_params(rot_angle,rot_ax)\n",
    "        rad = res_to_rad(res)\n",
    "        \n",
    "        for algo in xrange(8):\n",
    "            counter = results[idx,1]\n",
    "            Ps = results[idx,2:]\n",
    "            R_axis = Ps[3:]/np.linalg.norm(Ps[3:])\n",
    "            t , RM = get_params(Ps, res_f)\n",
    "            dt = true_t + t\n",
    "            dR = RM.dot(true_RM.T)\n",
    "            max_trans_R, E_Max = Max_displacement(dR, R_axis, dt)\n",
    "            Max_dis.append(E_Max)\n",
    "            Max_dis_R.append(max_trans_R)\n",
    "            RMS_ls.append(RMS(dR, dt, res_f))\n",
    "            \n",
    "            if(RMS(dR, dt, res_f) > 1):\n",
    "                print idx, rot_ax, rang, rep\n",
    "            if(RMS(dR, dt, res_f) > E_Max):\n",
    "                print rot_ax, rang, rep, rot_angle\n",
    "                print RMS(dR, dt, res_f), E_Max\n",
    "\n",
    "            RMS_rotation_ls.append(RMS_Rotation(dR))\n",
    "            RMS_translation_ls.append(RMS_Translation(dt))\n",
    "            RMS_trans_R.append(RMS_Translation_R(dR))\n",
    "            counter_ls.append(counter)\n",
    "            idx += 1\n",
    "    return [true_params, \n",
    "            RMS_ls, RMS_rotation_ls, RMS_translation_ls, \n",
    "            Max_dis, Max_dis_R, RMS_trans_R, counter_ls]  \n",
    "\n",
    "\n",
    "def compute_RMS(output_path, interp, algo, axes_dict):\n",
    "    true_params = []\n",
    "    Max_dis_6_4 = []\n",
    "    Max_dis_R_6_4 = []\n",
    "    RMS_ls_6_4 = []\n",
    "    RMS_rotation_ls_6_4 = []\n",
    "    RMS_translation_ls_6_4 = []\n",
    "    RMS_trans_R_6_4 = []\n",
    "    counter_6_4 = []\n",
    "    \n",
    "    Max_dis_8 = []\n",
    "    Max_dis_R_8 = []\n",
    "    RMS_ls_8 = []\n",
    "    RMS_rotation_ls_8 = []\n",
    "    RMS_translation_ls_8 = []\n",
    "    RMS_trans_R_8 = []\n",
    "    counter_8 = []\n",
    "    \n",
    "    Max_dis_10 = []\n",
    "    Max_dis_R_10 = []\n",
    "    RMS_ls_10 = []\n",
    "    RMS_rotation_ls_10 = []\n",
    "    RMS_translation_ls_10 = []\n",
    "    RMS_trans_R_10 = []\n",
    "    counter_10 = []\n",
    "    for ix, rot_ax in enumerate(keys):\n",
    "        for rang in ranges:\n",
    "            ref = rep_to_angle(0,rang)\n",
    "            for rep in xrange(1,36):\n",
    "                rot_angle = rep_to_angle(rep,rang)\n",
    "                true_params.append(rot_angle)\n",
    "                true_t, true_RM = get_true_params(rot_angle,rot_ax)\n",
    "\n",
    "                res = '6_4mm'\n",
    "                res_f =  6.4\n",
    "                rad = res_to_rad(res)\n",
    "                output_file = '%s_%s_%s_rot_%s_deg_%s_trans.txt' % (res, interp, rot_ax, rang, axes_dict[rot_ax])\n",
    "                results = np.loadtxt(os.path.join(output_path,output_file))\n",
    "                #for algo in xrange(8):\n",
    "                idx = algo+(rep-1)*8\n",
    "                counter = results[idx,1]\n",
    "                Ps = results[idx,2:]\n",
    "                R_axis = Ps[3:]/np.linalg.norm(Ps[3:])\n",
    "                t , RM = get_params(Ps, res_f)\n",
    "                dt = true_t + t\n",
    "                dR = RM.dot(true_RM.T)\n",
    "                max_trans_R, E_Max = Max_displacement(dR, R_axis, dt)\n",
    "                Max_dis_6_4.append(E_Max)\n",
    "                Max_dis_R_6_4.append(max_trans_R)\n",
    "                RMS_ls_6_4.append(RMS(dR, dt, res_f))\n",
    "                if(RMS(dR, dt, res_f) > 1):\n",
    "                    print ix, rot_ax, rang, rep\n",
    "                if(RMS(dR, dt, res_f) > E_Max):\n",
    "                    print rot_ax, rang, rep, rot_angle\n",
    "                    print RMS(dR, dt, res_f), E_Max\n",
    "                RMS_rotation_ls_6_4.append(RMS_Rotation(dR))\n",
    "                RMS_translation_ls_6_4.append(RMS_Translation(dt))\n",
    "                RMS_trans_R_6_4.append(RMS_Translation_R(dR))\n",
    "                counter_6_4.append(counter)\n",
    "\n",
    "                res = '8mm'\n",
    "                res_f =  8.0\n",
    "                rad = res_to_rad(res)\n",
    "                output_file = '%s_%s_%s_rot_%s_deg_%s_trans.txt' % (res, interp, rot_ax, rang, axes_dict[rot_ax])\n",
    "                results = np.loadtxt(os.path.join(output_path,output_file))\n",
    "                #for algo in xrange(8):\n",
    "                idx = algo+(rep-1)*8\n",
    "                counter = results[idx,1]\n",
    "                Ps = results[idx,2:]\n",
    "                R_axis = Ps[3:]/np.linalg.norm(Ps[3:])\n",
    "                t , RM = get_params(Ps, res_f)\n",
    "                dt = true_t + t\n",
    "                dR = RM.dot(true_RM.T)\n",
    "                max_trans_R, E_Max = Max_displacement(dR, R_axis, dt)\n",
    "                Max_dis_8.append(E_Max)\n",
    "                Max_dis_R_8.append(max_trans_R)\n",
    "                RMS_ls_8.append(RMS(dR, dt, res_f))\n",
    "                if(RMS(dR, dt, res_f) > 1):\n",
    "                    print ix, rot_ax, rang, rep\n",
    "                if(RMS(dR, dt, res_f) > E_Max):\n",
    "                    print rot_ax, rang, rep, rot_angle\n",
    "                    print RMS(dR, dt, res_f), E_Max\n",
    "                RMS_rotation_ls_8.append(RMS_Rotation(dR))\n",
    "                RMS_translation_ls_8.append(RMS_Translation(dt))\n",
    "                RMS_trans_R_8.append(RMS_Translation_R(dR))\n",
    "                counter_8.append(counter)\n",
    "\n",
    "                res = '10mm'\n",
    "                res_f =  10.0\n",
    "                rad = res_to_rad(res)\n",
    "                output_file = '%s_%s_%s_rot_%s_deg_%s_trans.txt' % (res, interp, rot_ax, rang, axes_dict[rot_ax])   \n",
    "                results = np.loadtxt(os.path.join(output_path,output_file))\n",
    "                #for algo in xrange(8):\n",
    "                idx = algo+(rep-1)*8        \n",
    "                counter = results[idx,1]\n",
    "                Ps = results[idx,2:]\n",
    "                R_axis = Ps[3:]/np.linalg.norm(Ps[3:])\n",
    "                t , RM = get_params(Ps, res_f)\n",
    "                dt = true_t + t\n",
    "                dR = RM.dot(true_RM.T)\n",
    "                max_trans_R, E_Max = Max_displacement(dR, R_axis, dt)\n",
    "                Max_dis_10.append(E_Max)\n",
    "                Max_dis_R_10.append(max_trans_R)\n",
    "                RMS_ls_10.append(RMS(dR, dt, res_f))\n",
    "                if(RMS(dR, dt, res_f) > 1):\n",
    "                    print ix, rot_ax, rang, rep\n",
    "                if(RMS(dR, dt, res_f) > E_Max):\n",
    "                    print rot_ax, rang, rep, rot_angle\n",
    "                    print RMS(dR, dt, res_f), E_Max\n",
    "                RMS_rotation_ls_10.append(RMS_Rotation(dR))\n",
    "                RMS_translation_ls_10.append(RMS_Translation(dt))\n",
    "                RMS_trans_R_10.append(RMS_Translation_R(dR))\n",
    "                counter_10.append(counter)\n",
    "                \n",
    "    return [true_params,\n",
    "            RMS_ls_6_4,RMS_ls_8,RMS_ls_10,\n",
    "            RMS_rotation_ls_6_4,RMS_rotation_ls_8,RMS_rotation_ls_10, \n",
    "            RMS_translation_ls_6_4,RMS_translation_ls_8,RMS_translation_ls_10,\n",
    "            Max_dis_6_4,Max_dis_8,Max_dis_10,\n",
    "            Max_dis_R_6_4,Max_dis_R_8,Max_dis_R_10,\n",
    "            RMS_trans_R_6_4, RMS_trans_R_8, RMS_trans_R_10,\n",
    "            counter_6_4, counter_8, counter_10]"
   ]
  },
  {
   "cell_type": "markdown",
   "metadata": {},
   "source": [
    "## Get all Bspline results for every subject"
   ]
  },
  {
   "cell_type": "code",
   "execution_count": 18,
   "metadata": {
    "collapsed": false
   },
   "outputs": [],
   "source": [
    "interp = 'bspline'\n",
    "for ix, rot_ax in enumerate(keys):\n",
    "    for rang in ranges[:2]:\n",
    "        ref = rep_to_angle(0,rang)\n",
    "        for rep in xrange(1,36):\n",
    "            for res in resolutions:\n",
    "                output_file = '%s_%s_%s_rot_%s_deg_%s_trans.txt' % (res, interp, rot_ax, rang, axes_dict[rot_ax])\n",
    "                #print output_file"
   ]
  },
  {
   "cell_type": "code",
   "execution_count": null,
   "metadata": {
    "collapsed": true
   },
   "outputs": [],
   "source": [
    "output_path = '/Users/zyzdiana/Desktop/C_output/'\n",
    "all_algorithms = []\n",
    "for algo in xrange(8):\n",
    "    data_ls = []\n",
    "    for interp in ['bspline']:\n",
    "        for subj in ['oct13','june8','july15','july26']:\n",
    "            data_ls.append(compute_RMS(output_path, interp, algo, axes_dict))\n",
    "    all_algorithms.append(data_ls)"
   ]
  },
  {
   "cell_type": "markdown",
   "metadata": {},
   "source": [
    "# Get all data"
   ]
  },
  {
   "cell_type": "code",
   "execution_count": null,
   "metadata": {
    "collapsed": false
   },
   "outputs": [],
   "source": [
    "output_path = '/Users/zyzdiana/Desktop/'\n",
    "all_algorithms = []\n",
    "for algo in xrange(8):\n",
    "    data_ls = []\n",
    "    for interp in ['bspline','tricubic','trilinear']:\n",
    "        for subj in ['oct13','june8','july15','july26']:\n",
    "            data_ls.append(compute_RMS(output_path, interp, algo, axes_dict))\n",
    "    all_algorithms.append(data_ls)"
   ]
  },
  {
   "cell_type": "code",
   "execution_count": null,
   "metadata": {
    "collapsed": true
   },
   "outputs": [],
   "source": []
  }
 ],
 "metadata": {
  "kernelspec": {
   "display_name": "Python 2",
   "language": "python",
   "name": "python2"
  },
  "language_info": {
   "codemirror_mode": {
    "name": "ipython",
    "version": 2
   },
   "file_extension": ".py",
   "mimetype": "text/x-python",
   "name": "python",
   "nbconvert_exporter": "python",
   "pygments_lexer": "ipython2",
   "version": "2.7.12"
  }
 },
 "nbformat": 4,
 "nbformat_minor": 0
}
